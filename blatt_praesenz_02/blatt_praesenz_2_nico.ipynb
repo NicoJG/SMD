{
 "cells": [
  {
   "cell_type": "markdown",
   "id": "ab3d32a0",
   "metadata": {},
   "source": [
    "## Aufgabe 2 Chi-Quadrat"
   ]
  },
  {
   "cell_type": "code",
   "execution_count": 50,
   "id": "b74f85d3",
   "metadata": {},
   "outputs": [],
   "source": [
    "import numpy as np\n",
    "%matplotlib inline\n",
    "import matplotlib.pyplot as plt"
   ]
  },
  {
   "cell_type": "markdown",
   "id": "e669b19c",
   "metadata": {},
   "source": [
    "### a) Erzeugen Sie mit der Funktion numpy.random.chisquare 100 Zufallszahlen aus einer Chi-Quadrat-Verteilung mit 5 Freiheitsgraden."
   ]
  },
  {
   "cell_type": "code",
   "execution_count": 51,
   "id": "5f203829",
   "metadata": {},
   "outputs": [],
   "source": [
    "nums = np.random.chisquare(df=5,size=100)"
   ]
  },
  {
   "cell_type": "markdown",
   "id": "a4c25f22",
   "metadata": {},
   "source": [
    "### b) Erstellen Sie mit den zuvor erzeugten Zufallszahlen ein eindimensionales Histogramm mit Fehlerbalken (Die Fehler pro Bin sollen $\\sqrt{N_i}$ mit $N_i$ Einträgen pro Bin $i$ sein)."
   ]
  },
  {
   "cell_type": "code",
   "execution_count": 62,
   "id": "d7fc3c68",
   "metadata": {},
   "outputs": [
    {
     "data": {
      "image/png": "[encoded data removed]",
      "text/plain": [
       "<Figure size 432x288 with 1 Axes>"
      ]
     },
     "metadata": {
      "needs_background": "light"
     },
     "output_type": "display_data"
    }
   ],
   "source": [
    "# bin Grenzen berechnen\n",
    "bin_num = 10\n",
    "nums_min = np.min(nums)\n",
    "nums_max = np.max(nums)\n",
    "step_size = (nums_max-nums_min)/(bin_num+1)\n",
    "bins = np.arange(start=nums_min, step=step_size, stop=nums_max)\n",
    "centers=bins[:-1]+np.diff(bins)/2\n",
    "\n",
    "N,_,_ = plt.hist(chi_nums,bins=bins)\n",
    "plt.errorbar(centers,n,yerr=np.sqrt(n),fmt='none');"
   ]
  },
  {
   "cell_type": "markdown",
   "id": "57a1baef",
   "metadata": {},
   "source": [
    "### c) Stellen Sie das Histogramm und die wahre Dichte scipy.stats.chi2.pdf der Verteilung geeignet dar (Tipp: Normalisierung)"
   ]
  },
  {
   "cell_type": "code",
   "execution_count": null,
   "id": "08c28ce2",
   "metadata": {},
   "outputs": [],
   "source": [
    "from scipy"
   ]
  }
 ],
 "metadata": {
  "kernelspec": {
   "display_name": "Python 3",
   "language": "python",
   "name": "python3"
  },
  "language_info": {
   "codemirror_mode": {
    "name": "ipython",
    "version": 3
   },
   "file_extension": ".py",
   "mimetype": "text/x-python",
   "name": "python",
   "nbconvert_exporter": "python",
   "pygments_lexer": "ipython3",
   "version": "3.8.8"
  }
 },
 "nbformat": 4,
 "nbformat_minor": 5
}
