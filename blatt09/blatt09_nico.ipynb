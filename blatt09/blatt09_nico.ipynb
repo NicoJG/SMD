{
 "cells": [
  {
   "cell_type": "markdown",
   "id": "1dddbfe0",
   "metadata": {},
   "source": [
    "# Abgabe SMD Blatt 09 \n",
    "### von Nico Guth, David Venker, Jan Jäkel"
   ]
  },
  {
   "cell_type": "code",
   "execution_count": 1,
   "id": "b836bc32-31e7-4fa9-b66a-937c36c274d6",
   "metadata": {},
   "outputs": [],
   "source": [
    "class PDF(object):\n",
    "    '''\n",
    "    Displays PDF files in Jupyter Notebooks\n",
    "    '''\n",
    "    def __init__(self, pdf, size=(200,200)):\n",
    "        self.pdf = pdf\n",
    "        self.size = size\n",
    "\n",
    "    def _repr_html_(self):\n",
    "        return '<iframe src={0} width={1[0]} height={1[1]}></iframe>'.format(self.pdf, self.size)\n",
    "\n",
    "    def _repr_latex_(self):\n",
    "        return r'\\includegraphics[width=1.0\\textwidth]{{{0}}}'.format(self.pdf)"
   ]
  },
  {
   "cell_type": "markdown",
   "id": "dec29364-accd-45ba-b842-a685efa1f583",
   "metadata": {},
   "source": [
    "# Aufgabe 18 Projektaufgabe: Feature Engineering"
   ]
  },
  {
   "cell_type": "markdown",
   "id": "20b9f5ad",
   "metadata": {},
   "source": [
    "## a) Optimieren Sie den „roc auc score“, indem Sie neue Features generieren.\n",
    "\n",
    "Der Code ist weiter unten im PDF eingebunden."
   ]
  },
  {
   "cell_type": "markdown",
   "id": "e4e7d061-2d1e-49d2-9eed-852b6ddaf7c1",
   "metadata": {},
   "source": [
    "## b) Wie hoch ist der größte „roc auc score“ den Sie erreichen können?  \n",
    "\n",
    "roc auc score = 0.870"
   ]
  },
  {
   "cell_type": "markdown",
   "id": "fe7acdd3-d728-4036-8cd3-f0f157412104",
   "metadata": {},
   "source": [
    "## c) Was würde ein „roc auc score“ von 0.5 bedeuten, was ein „roc auc score“ von 1?  \n",
    "\n",
    "- 0.5 : Die Klassifizierung ist genau so gut wie zufälliges Raten\n",
    "- 1.0 : Die Klassifizierung ist perfekt auf den gegebenen Daten -> Overfitting"
   ]
  },
  {
   "cell_type": "markdown",
   "id": "8459ee77-10a3-4881-8f61-990f5ff6f33b",
   "metadata": {},
   "source": [
    "## d) Wie ändern sich Genauigkeit und Sensitivität mit steigendem „prediction threshold“?\n",
    "\n",
    "- Bei hohem Prediction Threshold steigt der Recall bzw. Sensitivität (TP/TP+FN)\n",
    "- Bei niedrigem Prediction Threshold steigt die Precision bzw. Genauigkeit (TP/TP+FP)"
   ]
  },
  {
   "cell_type": "markdown",
   "id": "eaaeed9f-1c5c-4645-833c-ad9bc4de0828",
   "metadata": {},
   "source": [
    "## e) Übersichts PDF"
   ]
  },
  {
   "cell_type": "code",
   "execution_count": 2,
   "id": "cd262b79-a067-4737-a63b-ac42cbe61d03",
   "metadata": {},
   "outputs": [
    {
     "data": {
      "text/html": [
       "<iframe src=feature_generation.pdf width=500 height=500></iframe>"
      ],
      "text/latex": [
       "\\includegraphics[width=1.0\\textwidth]{feature_generation.pdf}"
      ],
      "text/plain": [
       "<__main__.PDF at 0x7f82f87b81f0>"
      ]
     },
     "execution_count": 2,
     "metadata": {},
     "output_type": "execute_result"
    }
   ],
   "source": [
    "PDF('feature_generation.pdf', size=(500,500))"
   ]
  },
  {
   "cell_type": "markdown",
   "id": "3fdd11b6-4b08-4b9b-9823-aaef3632d56d",
   "metadata": {},
   "source": [
    "# Aufgabe 19 Projektaufgabe: Energieregression"
   ]
  },
  {
   "cell_type": "markdown",
   "id": "8957c109",
   "metadata": {},
   "source": [
    "## a) Implementieren Sie den Random Forest Regressor <br/> b) Implementieren Sie 5-Fache Kreuzvalidierung\n",
    "\n",
    "Der Code ist weiter unten im PDF eingebunden."
   ]
  },
  {
   "cell_type": "markdown",
   "id": "eb97f44d-73cf-478e-84e9-76c39511f40d",
   "metadata": {},
   "source": [
    "## c) Regressor Confusion\n",
    "\n",
    "### Beschreiben Sie kurz, was eine Migrationsmatrix ist.\n",
    "\n",
    "Wenn eine Migrationsmatrix eine Konfusionsmatrix ist:  \n",
    "In der Konfusionsmatrix kann man ablesen für welchen wahren Wert $x$ wie viele Ereignisse als $y$ vorhergesagt wurden.  \n",
    "Hier kann man also die Zusammenhänge der wahren Werte zu den vorhergesagten Werten einschätzen und so ein Modell bewerten.  \n",
    "\n",
    "### Welche Eigenschaften Ihres Regressors können Sie von der Konfusionsmatrix ablesen?\n",
    "\n",
    "Die Konfusionsmatrix ist auf der Diagonalen am größten und ungefähr um die Diagonale normalverteilt.  \n",
    "Also kann das Modell die Energie recht gut vorhersagen.  \n",
    "Aufgrund der log-log-Skala sollten die Abstände nach oben rechts kleiner werden.\n",
    "Allerdings ist oben rechts die Streuung recht groß.\n",
    "Also sieht man außerdem, dass große Energien nicht so gut vorhergesagt werden.\n",
    "Kleine Energien werden auch teilweise über eine Größenordung falsch vorhergesagt."
   ]
  },
  {
   "cell_type": "markdown",
   "id": "fc99b4f7-da16-44ca-8859-8748765f058b",
   "metadata": {},
   "source": [
    "## d) Welche Eigenschaften Ihres Regressors können Sie an den Parametern „Bias“ und „Resolution“ ableiten?\n",
    "\n",
    "Annahme: Mit Resolution ist Variance gemeint.  \n",
    "\n",
    "Bei Energien um $10^4$ bis $10^5$ GeV ist der Bias und die Variance niedrig.  \n",
    "Bei kleineren und größeren Energien wird sowohl Bias als auch Variance höher.\n",
    "\n",
    "Also wird die Energie dort ungenauer aufgelöst (Variance) und im mittel zu hoch bzw. zu niedrig eingeschätzt. (Bias)  \n",
    "Niedrige Energien werden eher zu hoch eingeschätzt und hohe Energien eher zu niedrig.  \n",
    "Am besten scheint der Regressor zwischen $2\\cdot 10^4$ und $2\\cdot 10^5$ GeV zu funktionieren."
   ]
  },
  {
   "cell_type": "markdown",
   "id": "e7cafea3",
   "metadata": {},
   "source": [
    "## e) Welche drei Features haben für die Energieschätzung in diesem Beispiel die größte Bedeutung?\n",
    "\n",
    "Mit Abstand hat die Anzahl der Pixel mit einem Wert über dem Mittelwert die höchste Bedeutung.  \n",
    "Gefolgt davon sind die Anzahl der Pixel mit einem Wert über der hälfte des Maximums und der maximale Wert durch den Mittelwert.  \n",
    "\n",
    "In etwas anderer Reihenfolge sieht man auch in Aufgabe 18, dass diese Features am aussagekräftigsten sind."
   ]
  },
  {
   "cell_type": "markdown",
   "id": "0908d867",
   "metadata": {},
   "source": [
    "## f) Kann es hilfreich sein die zu schätzende Zielgröße (Teilchenenergie) zu skalieren?  \n",
    "\n",
    "Ja, denn hohe Werte können den Regressor teilweise daran hindern niedrige Werte gut einschätzen zu können.  \n",
    "Z.B. wenn man als Loss-Function den Mean-Squared-Error benutzt, ist es ohne Skalierung deutlich günstiger hohe Teilchenenergien richtig einzuschätzen als niedrige, obwohl die Problemstellung unter Umständen mehr an niedrigen Werten interessiert sein könnte."
   ]
  },
  {
   "cell_type": "markdown",
   "id": "0c0f2017-5492-4524-91ab-9837d2f8ba98",
   "metadata": {},
   "source": [
    "## g) Übersichts PDF"
   ]
  },
  {
   "cell_type": "code",
   "execution_count": 3,
   "id": "8f1a3e03-99a4-472d-961d-e5ad75b4046f",
   "metadata": {},
   "outputs": [
    {
     "data": {
      "text/html": [
       "<iframe src=energy_regression.pdf width=500 height=500></iframe>"
      ],
      "text/latex": [
       "\\includegraphics[width=1.0\\textwidth]{energy_regression.pdf}"
      ],
      "text/plain": [
       "<__main__.PDF at 0x7f82f9024b50>"
      ]
     },
     "execution_count": 3,
     "metadata": {},
     "output_type": "execute_result"
    }
   ],
   "source": [
    "PDF('energy_regression.pdf', size=(500,500))"
   ]
  },
  {
   "cell_type": "code",
   "execution_count": null,
   "id": "9fb6dfae",
   "metadata": {},
   "outputs": [],
   "source": []
  }
 ],
 "metadata": {
  "kernelspec": {
   "display_name": "Python 3",
   "language": "python",
   "name": "python3"
  },
  "language_info": {
   "codemirror_mode": {
    "name": "ipython",
    "version": 3
   },
   "file_extension": ".py",
   "mimetype": "text/x-python",
   "name": "python",
   "nbconvert_exporter": "python",
   "pygments_lexer": "ipython3",
   "version": "3.8.10"
  }
 },
 "nbformat": 4,
 "nbformat_minor": 5
}
