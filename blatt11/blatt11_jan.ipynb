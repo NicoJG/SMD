{
 "cells": [
  {
   "cell_type": "markdown",
   "id": "8e67e8ab",
   "metadata": {},
   "source": [
    "## Aufgabe 22:"
   ]
  },
  {
   "cell_type": "markdown",
   "id": "0ee7da58",
   "metadata": {},
   "source": [
    "a) Die Lossfunktion beschreibt wie gut der Algorithmus klassifiziert hat. Über sie kann eine spezielle Menge an gewichten quantifiziert werden. \n",
    "\n",
    "b) Die Lossfunktion wird über das Gradientenverfahren minimiert. Wir starten mit zufällig initialisierten Werten für die gewichte und passen diese dann schrittweise an.\n",
    "\n",
    "c) Die Aktivierungsfunktion bestimmt, wie der Aktivierungszustand eines Neurons von der Eingabe aller anderen Neuronen, die mit diesem Neuron verbunden sind, abhängt. Sie verknüpft so die Gewichte eines Neurons mit dem Input.\n",
    "Die drei gängigen Aktivierungsfunktionen sind die Sigmoid Funktion, der Tangens Hyperbolicus und die RectifiedLinear Unit (ReLU).\n",
    "\n",
    "d) Ein Neuron bildet die Basis des Neuronalen Netzes. Es wird über die Aktivierungsfunktion entschieden ob es von einem gegebenen Input \"eingeschaltet\" wird. Über die verknüpfung der Neuronen kann dann der Input klassifiziert werden. Die nomenklatur folgt aus der biologischen Motivation.\n",
    "\n",
    "e) Neuronale Netze können sehr gut auf rohe Daten angewandt werden zum Beispiel für die Bildvearbeitung. Dabei wird jeder Pixel des Bildes als ein Feature verstanden. Die nachfolgenden Layer \"schauen\"sich dann gewisse Eigenschaften des Bildes an um es dann am Ende zu klassifizieren. Neuronale Netze finden aber auch Anwendung in der Sprachverarbeitung oder im \"reinforcement learning\". Bei letzterem kann das Netz sehr gut in einer Umgebung(z.B. Atari Enviroment von OpenAI) die Verhaltensweise unter gewissen Regeln lernen/optimieren."
   ]
  },
  {
   "cell_type": "markdown",
   "id": "fa402044",
   "metadata": {},
   "source": [
    "## Aufgabe 23:"
   ]
  },
  {
   "cell_type": "code",
   "execution_count": 1,
   "id": "ec45c9ba",
   "metadata": {},
   "outputs": [],
   "source": [
    "import pandas as pd\n",
    "import numpy as np\n",
    "from sklearn import preprocessing\n",
    "import matplotlib.pyplot as plt"
   ]
  },
  {
   "cell_type": "code",
   "execution_count": 2,
   "id": "48180df8",
   "metadata": {},
   "outputs": [
    {
     "data": {
      "text/html": [
       "<div>\n",
       "<style scoped>\n",
       "    .dataframe tbody tr th:only-of-type {\n",
       "        vertical-align: middle;\n",
       "    }\n",
       "\n",
       "    .dataframe tbody tr th {\n",
       "        vertical-align: top;\n",
       "    }\n",
       "\n",
       "    .dataframe thead th {\n",
       "        text-align: right;\n",
       "    }\n",
       "</style>\n",
       "<table border=\"1\" class=\"dataframe\">\n",
       "  <thead>\n",
       "    <tr style=\"text-align: right;\">\n",
       "      <th></th>\n",
       "      <th>x</th>\n",
       "      <th>y</th>\n",
       "      <th>Label</th>\n",
       "      <th>population 0</th>\n",
       "      <th>population 1</th>\n",
       "    </tr>\n",
       "  </thead>\n",
       "  <tbody>\n",
       "    <tr>\n",
       "      <th>0</th>\n",
       "      <td>0.926612</td>\n",
       "      <td>4.717092</td>\n",
       "      <td>0</td>\n",
       "      <td>1</td>\n",
       "      <td>0</td>\n",
       "    </tr>\n",
       "    <tr>\n",
       "      <th>1</th>\n",
       "      <td>-3.953953</td>\n",
       "      <td>1.274478</td>\n",
       "      <td>0</td>\n",
       "      <td>1</td>\n",
       "      <td>0</td>\n",
       "    </tr>\n",
       "    <tr>\n",
       "      <th>2</th>\n",
       "      <td>-7.161693</td>\n",
       "      <td>-0.984415</td>\n",
       "      <td>0</td>\n",
       "      <td>1</td>\n",
       "      <td>0</td>\n",
       "    </tr>\n",
       "    <tr>\n",
       "      <th>3</th>\n",
       "      <td>-0.956840</td>\n",
       "      <td>1.115828</td>\n",
       "      <td>0</td>\n",
       "      <td>1</td>\n",
       "      <td>0</td>\n",
       "    </tr>\n",
       "    <tr>\n",
       "      <th>4</th>\n",
       "      <td>-0.046090</td>\n",
       "      <td>2.083444</td>\n",
       "      <td>0</td>\n",
       "      <td>1</td>\n",
       "      <td>0</td>\n",
       "    </tr>\n",
       "  </tbody>\n",
       "</table>\n",
       "</div>"
      ],
      "text/plain": [
       "          x         y  Label  population 0  population 1\n",
       "0  0.926612  4.717092      0             1             0\n",
       "1 -3.953953  1.274478      0             1             0\n",
       "2 -7.161693 -0.984415      0             1             0\n",
       "3 -0.956840  1.115828      0             1             0\n",
       "4 -0.046090  2.083444      0             1             0"
      ]
     },
     "execution_count": 2,
     "metadata": {},
     "output_type": "execute_result"
    }
   ],
   "source": [
    "df1 = pd.read_hdf('populationen.hdf5', key = 'P_0') #read the dataframes\n",
    "df2 = pd.read_hdf('populationen.hdf5', key = 'P_1') \n",
    "df1['Label']= 0 #add the labels\n",
    "df2['Label']= 1\n",
    "df1['population 0'] = 1 #introduce those columns to create the indicator function\n",
    "df1['population 1'] = 0\n",
    "df2['population 0'] = 0\n",
    "df2['population 1'] = 1\n",
    "df = pd.concat([df1,df2], ignore_index=True) #combine the dataframes \n",
    "df.head()"
   ]
  },
  {
   "cell_type": "code",
   "execution_count": 3,
   "id": "c122d288",
   "metadata": {},
   "outputs": [
    {
     "data": {
      "text/plain": [
       "array([[1, 0],\n",
       "       [1, 0],\n",
       "       [1, 0],\n",
       "       ...,\n",
       "       [0, 1],\n",
       "       [0, 1],\n",
       "       [0, 1]])"
      ]
     },
     "execution_count": 3,
     "metadata": {},
     "output_type": "execute_result"
    }
   ],
   "source": [
    "X = df[['x','y']]\n",
    "y = df[['population 0','population 1']].to_numpy()\n",
    "y"
   ]
  },
  {
   "cell_type": "code",
   "execution_count": 4,
   "id": "d9d7522d",
   "metadata": {},
   "outputs": [],
   "source": [
    "# we have 2 classes and 2 attributes\n",
    "K = 2\n",
    "p = 2 \n",
    "\n",
    "# include the bias into the weight matrix\n",
    "np.random.seed(42)\n",
    "W = np.random.normal(size=(p+1, K))#+1 to include the bias vector in the matrix\n"
   ]
  },
  {
   "cell_type": "code",
   "execution_count": 5,
   "id": "9840a7d8",
   "metadata": {},
   "outputs": [],
   "source": [
    "# softmax function shifted to zero so no numerical isntalbilities arise.\n",
    "def softmax(f):\n",
    "    f_shifted = f - f.max()\n",
    "    p = np.exp(f_shifted).T/np.sum(np.exp(f_shifted), axis=1)\n",
    "    return p.T\n",
    "\n",
    "# loss for the entire training set\n",
    "def loss_cross_ent(X, y, W):\n",
    "    f = X@W \n",
    "    q = softmax(f)\n",
    "    l = -np.sum(y*np.log2(q), axis=1)\n",
    "    return l.mean() # the mean over all samples in the batch/dataset\n"
   ]
  },
  {
   "cell_type": "code",
   "execution_count": 6,
   "id": "24a7f259",
   "metadata": {},
   "outputs": [],
   "source": [
    "def gradient(W, X, y):\n",
    "    f = X@W\n",
    "    p = softmax(f)\n",
    "    dh = (p - y)\n",
    "    dW = ( X.T@dh ) / dh.shape[0]#numerical derivation \n",
    "    return dW\n",
    "\n",
    "def gradient_descent(X, y, loss_function, max_iter=100, step_size=0.5):#max_iter == epochen ; step_size == learning rate\n",
    "    bestloss = np.inf\n",
    "    \n",
    "    \n",
    "    K = y.shape[1]\n",
    "    p = X.shape[1]\n",
    "    \n",
    "    #save all losses\n",
    "    losses = []\n",
    "    #start with a random weight matrix\n",
    "    W = np.random.normal(size=(p, K)) * step_size\n",
    "    for i in range(max_iter):\n",
    "        W = W - gradient(W, X, y) * step_size\n",
    "        loss = loss_function(X, y, W)\n",
    "        losses.append(loss)\n",
    "        \n",
    "    return losses, W\n",
    "\n"
   ]
  },
  {
   "cell_type": "code",
   "execution_count": 7,
   "id": "11e3b6f0",
   "metadata": {},
   "outputs": [
    {
     "data": {
      "image/png": "[encoded data removed]",
      "text/plain": [
       "<Figure size 432x288 with 1 Axes>"
      ]
     },
     "metadata": {
      "needs_background": "light"
     },
     "output_type": "display_data"
    }
   ],
   "source": [
    "losses, W = gradient_descent(X, y, loss_cross_ent)\n",
    "plt.plot(range(len(losses)), losses, '.', label='gradient descent')\n",
    "plt.xlabel('Iterations')\n",
    "plt.ylabel('Loss Function')\n",
    "plt.legend()\n",
    "plt.title('Cross Entropy Loss')\n",
    "None"
   ]
  },
  {
   "cell_type": "code",
   "execution_count": null,
   "id": "f1411213",
   "metadata": {},
   "outputs": [],
   "source": []
  },
  {
   "cell_type": "code",
   "execution_count": null,
   "id": "903e7f8c",
   "metadata": {},
   "outputs": [],
   "source": []
  }
 ],
 "metadata": {
  "kernelspec": {
   "display_name": "Python 3",
   "language": "python",
   "name": "python3"
  },
  "language_info": {
   "codemirror_mode": {
    "name": "ipython",
    "version": 3
   },
   "file_extension": ".py",
   "mimetype": "text/x-python",
   "name": "python",
   "nbconvert_exporter": "python",
   "pygments_lexer": "ipython3",
   "version": "3.8.10"
  }
 },
 "nbformat": 4,
 "nbformat_minor": 5
}
