{
 "cells": [
  {
   "cell_type": "code",
   "execution_count": 1,
   "metadata": {},
   "outputs": [],
   "source": [
    "import pandas as pd\n",
    "import numpy as np\n",
    "from matplotlib import pyplot as plt\n"
   ]
  },
  {
   "cell_type": "markdown",
   "metadata": {},
   "source": [
    "# Aufgabe 1\n",
    "### a)"
   ]
  },
  {
   "cell_type": "code",
   "execution_count": 2,
   "metadata": {},
   "outputs": [],
   "source": [
    "df=pd.read_csv('aufg_a.csv')\n"
   ]
  },
  {
   "cell_type": "code",
   "execution_count": 3,
   "metadata": {},
   "outputs": [
    {
     "data": {
      "text/html": [
       "<div>\n",
       "<style scoped>\n",
       "    .dataframe tbody tr th:only-of-type {\n",
       "        vertical-align: middle;\n",
       "    }\n",
       "\n",
       "    .dataframe tbody tr th {\n",
       "        vertical-align: top;\n",
       "    }\n",
       "\n",
       "    .dataframe thead th {\n",
       "        text-align: right;\n",
       "    }\n",
       "</style>\n",
       "<table border=\"1\" class=\"dataframe\">\n",
       "  <thead>\n",
       "    <tr style=\"text-align: right;\">\n",
       "      <th></th>\n",
       "      <th>x</th>\n",
       "      <th>\"y_0\"</th>\n",
       "    </tr>\n",
       "  </thead>\n",
       "  <tbody>\n",
       "    <tr>\n",
       "      <th>0</th>\n",
       "      <td>0.5</td>\n",
       "      <td>0.132939</td>\n",
       "    </tr>\n",
       "    <tr>\n",
       "      <th>1</th>\n",
       "      <td>1.5</td>\n",
       "      <td>0.204351</td>\n",
       "    </tr>\n",
       "    <tr>\n",
       "      <th>2</th>\n",
       "      <td>2.5</td>\n",
       "      <td>0.197394</td>\n",
       "    </tr>\n",
       "    <tr>\n",
       "      <th>3</th>\n",
       "      <td>3.5</td>\n",
       "      <td>0.157457</td>\n",
       "    </tr>\n",
       "    <tr>\n",
       "      <th>4</th>\n",
       "      <td>4.5</td>\n",
       "      <td>0.139232</td>\n",
       "    </tr>\n",
       "    <tr>\n",
       "      <th>5</th>\n",
       "      <td>5.5</td>\n",
       "      <td>0.060324</td>\n",
       "    </tr>\n",
       "    <tr>\n",
       "      <th>6</th>\n",
       "      <td>6.5</td>\n",
       "      <td>0.056360</td>\n",
       "    </tr>\n",
       "    <tr>\n",
       "      <th>7</th>\n",
       "      <td>7.5</td>\n",
       "      <td>0.051944</td>\n",
       "    </tr>\n",
       "  </tbody>\n",
       "</table>\n",
       "</div>"
      ],
      "text/plain": [
       "     x     \"y_0\"\n",
       "0  0.5  0.132939\n",
       "1  1.5  0.204351\n",
       "2  2.5  0.197394\n",
       "3  3.5  0.157457\n",
       "4  4.5  0.139232\n",
       "5  5.5  0.060324\n",
       "6  6.5  0.056360\n",
       "7  7.5  0.051944"
      ]
     },
     "execution_count": 3,
     "metadata": {},
     "output_type": "execute_result"
    }
   ],
   "source": [
    "df"
   ]
  },
  {
   "cell_type": "code",
   "execution_count": 4,
   "metadata": {},
   "outputs": [
    {
     "name": "stdout",
     "output_type": "stream",
     "text": [
      "x\n",
      " \"y_0\"\n"
     ]
    }
   ],
   "source": [
    "for col in df.columns:\n",
    "    print(col)"
   ]
  },
  {
   "cell_type": "code",
   "execution_count": 5,
   "metadata": {},
   "outputs": [
    {
     "data": {
      "text/plain": [
       "array([0.5, 1.5, 2.5, 3.5, 4.5, 5.5, 6.5, 7.5])"
      ]
     },
     "execution_count": 5,
     "metadata": {},
     "output_type": "execute_result"
    }
   ],
   "source": [
    "x=list(df.x)\n",
    "x = np.array(x)\n",
    "x"
   ]
  },
  {
   "cell_type": "code",
   "execution_count": 6,
   "metadata": {},
   "outputs": [],
   "source": [
    "y=df[' \"y_0\"'].tolist()\n",
    "y = np.array(y)"
   ]
  },
  {
   "cell_type": "code",
   "execution_count": 7,
   "metadata": {},
   "outputs": [
    {
     "name": "stdout",
     "output_type": "stream",
     "text": [
      "Designmatrix A:\n",
      "A.shape = (8, 7)\n",
      "A = array([[1.00000000e+00, 5.00000000e-01, 2.50000000e-01, 1.25000000e-01,\n",
      "        6.25000000e-02, 3.12500000e-02, 1.56250000e-02],\n",
      "       [1.00000000e+00, 1.50000000e+00, 2.25000000e+00, 3.37500000e+00,\n",
      "        5.06250000e+00, 7.59375000e+00, 1.13906250e+01],\n",
      "       [1.00000000e+00, 2.50000000e+00, 6.25000000e+00, 1.56250000e+01,\n",
      "        3.90625000e+01, 9.76562500e+01, 2.44140625e+02],\n",
      "       [1.00000000e+00, 3.50000000e+00, 1.22500000e+01, 4.28750000e+01,\n",
      "        1.50062500e+02, 5.25218750e+02, 1.83826562e+03],\n",
      "       [1.00000000e+00, 4.50000000e+00, 2.02500000e+01, 9.11250000e+01,\n",
      "        4.10062500e+02, 1.84528125e+03, 8.30376562e+03],\n",
      "       [1.00000000e+00, 5.50000000e+00, 3.02500000e+01, 1.66375000e+02,\n",
      "        9.15062500e+02, 5.03284375e+03, 2.76806406e+04],\n",
      "       [1.00000000e+00, 6.50000000e+00, 4.22500000e+01, 2.74625000e+02,\n",
      "        1.78506250e+03, 1.16029062e+04, 7.54188906e+04],\n",
      "       [1.00000000e+00, 7.50000000e+00, 5.62500000e+01, 4.21875000e+02,\n",
      "        3.16406250e+03, 2.37304688e+04, 1.77978516e+05]])\n"
     ]
    }
   ],
   "source": [
    "A= np.column_stack([x**0,x,x**2,x**3,x**4,x**5,x**6])\n",
    "print('Designmatrix A:')\n",
    "print(f'{A.shape = }')\n",
    "print(f'{A = }')"
   ]
  },
  {
   "cell_type": "code",
   "execution_count": 8,
   "metadata": {},
   "outputs": [
    {
     "name": "stdout",
     "output_type": "stream",
     "text": [
      "a.shape = (7,)\n",
      "a = array([-6.74453284e-02,  6.09609041e-01, -5.13748217e-01,  2.10566524e-01,\n",
      "       -4.52007756e-02,  4.78568054e-03, -1.96288198e-04])\n"
     ]
    }
   ],
   "source": [
    "a = np.linalg.inv(A.T @ A) @ A.T @ y\n",
    "print(f'{a.shape = }')\n",
    "print(f'{a = }')"
   ]
  },
  {
   "cell_type": "code",
   "execution_count": 9,
   "metadata": {},
   "outputs": [],
   "source": [
    "def polynom_6(x,a):\n",
    "    return a[0]*x**0 + a[1]*x + a[2]*x**2 + a[3]*x**3 + a[4]*x**4 + a[5]*x**5 + a[6]*x**6\n"
   ]
  },
  {
   "cell_type": "code",
   "execution_count": 10,
   "metadata": {},
   "outputs": [],
   "source": [
    "val= np.linspace(0,8)\n"
   ]
  },
  {
   "cell_type": "code",
   "execution_count": 11,
   "metadata": {},
   "outputs": [
    {
     "data": {
      "image/png": "[encoded data removed]",
      "text/plain": [
       "<Figure size 432x288 with 1 Axes>"
      ]
     },
     "metadata": {
      "needs_background": "light"
     },
     "output_type": "display_data"
    }
   ],
   "source": [
    "plt.plot(x,y,'x',label=\"Messwerte\")\n",
    "plt.plot(val,polynom_6(val,a),label=\"Fit\")\n",
    "plt.grid()\n",
    "plt.legend(loc='best')\n",
    "plt.tight_layout()"
   ]
  },
  {
   "cell_type": "markdown",
   "metadata": {},
   "source": [
    "### b)\n",
    "\n",
    "\n"
   ]
  },
  {
   "cell_type": "code",
   "execution_count": 12,
   "metadata": {},
   "outputs": [
    {
     "name": "stdout",
     "output_type": "stream",
     "text": [
      "Ableitungsmatrix C:\n",
      "C.shape = (8, 8)\n",
      "C = array([[-1,  1,  0,  0,  0,  0,  0,  0],\n",
      "       [ 1, -2,  1,  0,  0,  0,  0,  0],\n",
      "       [ 0,  1, -2,  1,  0,  0,  0,  0],\n",
      "       [ 0,  0,  1, -2,  1,  0,  0,  0],\n",
      "       [ 0,  0,  0,  1, -2,  1,  0,  0],\n",
      "       [ 0,  0,  0,  0,  1, -2,  1,  0],\n",
      "       [ 0,  0,  0,  0,  0,  1, -2,  1],\n",
      "       [ 0,  0,  0,  0,  0,  0, -1,  1]])\n"
     ]
    }
   ],
   "source": [
    "C = ([[-1,1,0,0,0,0,0,0],\n",
    "     [1,-2,1,0,0,0,0,0],\n",
    "     [0,1,-2,1,0,0,0,0],\n",
    "     [0,0,1,-2,1,0,0,0],\n",
    "     [0,0,0,1,-2,1,0,0],\n",
    "     [0,0,0,0,1,-2,1,0],\n",
    "     [0,0,0,0,0,1,-2,1],\n",
    "     [0,0,0,0,0,0,-1,1]])\n",
    "C = np.array(C)\n",
    "lam = ([0.1,0.3,0.7,3,10])\n",
    "print('Ableitungsmatrix C:')\n",
    "print(f'{C.shape = }')\n",
    "print(f'{C = }')"
   ]
  },
  {
   "cell_type": "code",
   "execution_count": 13,
   "metadata": {},
   "outputs": [
    {
     "data": {
      "image/png": "[encoded data removed]",
      "text/plain": [
       "<Figure size 432x288 with 1 Axes>"
      ]
     },
     "metadata": {
      "needs_background": "light"
     },
     "output_type": "display_data"
    }
   ],
   "source": [
    "plt.plot(x,y,'x',label=\"Messwerte\")\n",
    "for i in range(len(lam)):\n",
    "    a_reg = np.linalg.inv(A.T @ A + lam[i] * (C@A).T @ (C @ A)) @ A.T @ y\n",
    "    plt.plot(val,polynom_6(val,a_reg),label=\"Fit\"+ str(lam[i]))\n",
    "\n",
    "plt.grid()\n",
    "plt.legend(loc='best')\n",
    "plt.tight_layout()    "
   ]
  },
  {
   "cell_type": "markdown",
   "metadata": {},
   "source": [
    "### c)"
   ]
  },
  {
   "cell_type": "code",
   "execution_count": 14,
   "metadata": {},
   "outputs": [],
   "source": [
    "df_2=pd.read_csv('aufg_c.csv')"
   ]
  },
  {
   "cell_type": "markdown",
   "metadata": {},
   "source": [
    "### Fehler des Mittelwertes ist: $\\frac{\\text{Standardabweichung}}{\\sqrt{\\text{Anzahl der Werte}}}$"
   ]
  },
  {
   "cell_type": "code",
   "execution_count": 15,
   "metadata": {},
   "outputs": [],
   "source": [
    "df_2['mean'] = df_2.iloc[:, 1:51].mean(axis=1)\n",
    "df_2['err_mean'] = df_2.iloc[:, 1:51].std(axis=1,ddof=1) / np.sqrt(50)"
   ]
  },
  {
   "cell_type": "code",
   "execution_count": 16,
   "metadata": {},
   "outputs": [
    {
     "data": {
      "text/html": [
       "<div>\n",
       "<style scoped>\n",
       "    .dataframe tbody tr th:only-of-type {\n",
       "        vertical-align: middle;\n",
       "    }\n",
       "\n",
       "    .dataframe tbody tr th {\n",
       "        vertical-align: top;\n",
       "    }\n",
       "\n",
       "    .dataframe thead th {\n",
       "        text-align: right;\n",
       "    }\n",
       "</style>\n",
       "<table border=\"1\" class=\"dataframe\">\n",
       "  <thead>\n",
       "    <tr style=\"text-align: right;\">\n",
       "      <th></th>\n",
       "      <th>x</th>\n",
       "      <th>\"y_0</th>\n",
       "      <th>\"y_1</th>\n",
       "      <th>\"y_2</th>\n",
       "      <th>\"y_3</th>\n",
       "      <th>\"y_4</th>\n",
       "      <th>\"y_5</th>\n",
       "      <th>\"y_6</th>\n",
       "      <th>\"y_7</th>\n",
       "      <th>\"y_8</th>\n",
       "      <th>...</th>\n",
       "      <th>\"y_42</th>\n",
       "      <th>\"y_43</th>\n",
       "      <th>\"y_44</th>\n",
       "      <th>\"y_45</th>\n",
       "      <th>\"y_46</th>\n",
       "      <th>\"y_47</th>\n",
       "      <th>\"y_48</th>\n",
       "      <th>\"y_49</th>\n",
       "      <th>mean</th>\n",
       "      <th>err_mean</th>\n",
       "    </tr>\n",
       "  </thead>\n",
       "  <tbody>\n",
       "    <tr>\n",
       "      <th>0</th>\n",
       "      <td>0.5</td>\n",
       "      <td>0.103939</td>\n",
       "      <td>0.149753</td>\n",
       "      <td>0.112739</td>\n",
       "      <td>0.184439</td>\n",
       "      <td>0.145831</td>\n",
       "      <td>0.113267</td>\n",
       "      <td>0.155455</td>\n",
       "      <td>0.155187</td>\n",
       "      <td>0.105173</td>\n",
       "      <td>...</td>\n",
       "      <td>0.122147</td>\n",
       "      <td>0.146955</td>\n",
       "      <td>0.076564</td>\n",
       "      <td>0.114331</td>\n",
       "      <td>0.132773</td>\n",
       "      <td>0.167562</td>\n",
       "      <td>0.135968</td>\n",
       "      <td>0.131620</td>\n",
       "      <td>0.124865</td>\n",
       "      <td>0.003522</td>\n",
       "    </tr>\n",
       "    <tr>\n",
       "      <th>1</th>\n",
       "      <td>1.5</td>\n",
       "      <td>0.219092</td>\n",
       "      <td>0.193544</td>\n",
       "      <td>0.160651</td>\n",
       "      <td>0.170565</td>\n",
       "      <td>0.184050</td>\n",
       "      <td>0.163337</td>\n",
       "      <td>0.212139</td>\n",
       "      <td>0.166457</td>\n",
       "      <td>0.186264</td>\n",
       "      <td>...</td>\n",
       "      <td>0.147765</td>\n",
       "      <td>0.164665</td>\n",
       "      <td>0.238038</td>\n",
       "      <td>0.203325</td>\n",
       "      <td>0.203236</td>\n",
       "      <td>0.213183</td>\n",
       "      <td>0.223799</td>\n",
       "      <td>0.148379</td>\n",
       "      <td>0.179360</td>\n",
       "      <td>0.004211</td>\n",
       "    </tr>\n",
       "    <tr>\n",
       "      <th>2</th>\n",
       "      <td>2.5</td>\n",
       "      <td>0.177677</td>\n",
       "      <td>0.166459</td>\n",
       "      <td>0.236241</td>\n",
       "      <td>0.205570</td>\n",
       "      <td>0.197066</td>\n",
       "      <td>0.230060</td>\n",
       "      <td>0.170907</td>\n",
       "      <td>0.181053</td>\n",
       "      <td>0.186724</td>\n",
       "      <td>...</td>\n",
       "      <td>0.144067</td>\n",
       "      <td>0.239231</td>\n",
       "      <td>0.103315</td>\n",
       "      <td>0.198792</td>\n",
       "      <td>0.201374</td>\n",
       "      <td>0.197383</td>\n",
       "      <td>0.126766</td>\n",
       "      <td>0.193543</td>\n",
       "      <td>0.196042</td>\n",
       "      <td>0.004397</td>\n",
       "    </tr>\n",
       "    <tr>\n",
       "      <th>3</th>\n",
       "      <td>3.5</td>\n",
       "      <td>0.139580</td>\n",
       "      <td>0.163861</td>\n",
       "      <td>0.167301</td>\n",
       "      <td>0.141728</td>\n",
       "      <td>0.143816</td>\n",
       "      <td>0.161717</td>\n",
       "      <td>0.153893</td>\n",
       "      <td>0.131928</td>\n",
       "      <td>0.110090</td>\n",
       "      <td>...</td>\n",
       "      <td>0.213696</td>\n",
       "      <td>0.157921</td>\n",
       "      <td>0.229623</td>\n",
       "      <td>0.207216</td>\n",
       "      <td>0.125185</td>\n",
       "      <td>0.119271</td>\n",
       "      <td>0.212534</td>\n",
       "      <td>0.193191</td>\n",
       "      <td>0.164007</td>\n",
       "      <td>0.004500</td>\n",
       "    </tr>\n",
       "    <tr>\n",
       "      <th>4</th>\n",
       "      <td>4.5</td>\n",
       "      <td>0.115663</td>\n",
       "      <td>0.112004</td>\n",
       "      <td>0.111168</td>\n",
       "      <td>0.102507</td>\n",
       "      <td>0.108234</td>\n",
       "      <td>0.085693</td>\n",
       "      <td>0.113646</td>\n",
       "      <td>0.148677</td>\n",
       "      <td>0.199207</td>\n",
       "      <td>...</td>\n",
       "      <td>0.161769</td>\n",
       "      <td>0.111842</td>\n",
       "      <td>0.142766</td>\n",
       "      <td>0.097612</td>\n",
       "      <td>0.132306</td>\n",
       "      <td>0.101199</td>\n",
       "      <td>0.085060</td>\n",
       "      <td>0.094930</td>\n",
       "      <td>0.122767</td>\n",
       "      <td>0.003173</td>\n",
       "    </tr>\n",
       "  </tbody>\n",
       "</table>\n",
       "<p>5 rows × 53 columns</p>\n",
       "</div>"
      ],
      "text/plain": [
       "     x      \"y_0      \"y_1      \"y_2      \"y_3      \"y_4      \"y_5      \"y_6  \\\n",
       "0  0.5  0.103939  0.149753  0.112739  0.184439  0.145831  0.113267  0.155455   \n",
       "1  1.5  0.219092  0.193544  0.160651  0.170565  0.184050  0.163337  0.212139   \n",
       "2  2.5  0.177677  0.166459  0.236241  0.205570  0.197066  0.230060  0.170907   \n",
       "3  3.5  0.139580  0.163861  0.167301  0.141728  0.143816  0.161717  0.153893   \n",
       "4  4.5  0.115663  0.112004  0.111168  0.102507  0.108234  0.085693  0.113646   \n",
       "\n",
       "       \"y_7      \"y_8  ...     \"y_42     \"y_43     \"y_44     \"y_45     \"y_46  \\\n",
       "0  0.155187  0.105173  ...  0.122147  0.146955  0.076564  0.114331  0.132773   \n",
       "1  0.166457  0.186264  ...  0.147765  0.164665  0.238038  0.203325  0.203236   \n",
       "2  0.181053  0.186724  ...  0.144067  0.239231  0.103315  0.198792  0.201374   \n",
       "3  0.131928  0.110090  ...  0.213696  0.157921  0.229623  0.207216  0.125185   \n",
       "4  0.148677  0.199207  ...  0.161769  0.111842  0.142766  0.097612  0.132306   \n",
       "\n",
       "      \"y_47     \"y_48     \"y_49      mean  err_mean  \n",
       "0  0.167562  0.135968  0.131620  0.124865  0.003522  \n",
       "1  0.213183  0.223799  0.148379  0.179360  0.004211  \n",
       "2  0.197383  0.126766  0.193543  0.196042  0.004397  \n",
       "3  0.119271  0.212534  0.193191  0.164007  0.004500  \n",
       "4  0.101199  0.085060  0.094930  0.122767  0.003173  \n",
       "\n",
       "[5 rows x 53 columns]"
      ]
     },
     "execution_count": 16,
     "metadata": {},
     "output_type": "execute_result"
    }
   ],
   "source": [
    "df_2.head()"
   ]
  },
  {
   "cell_type": "code",
   "execution_count": 17,
   "metadata": {},
   "outputs": [],
   "source": [
    "y_mean = df_2['mean'].to_numpy()\n",
    "y_err = df_2['err_mean'].to_numpy()"
   ]
  },
  {
   "cell_type": "markdown",
   "metadata": {},
   "source": [
    "### Berechne W nach dem Script mit $\\frac{1}{\\text{Fehler}^2}$auf der Diagonalen"
   ]
  },
  {
   "cell_type": "code",
   "execution_count": 18,
   "metadata": {},
   "outputs": [
    {
     "name": "stdout",
     "output_type": "stream",
     "text": [
      "Gewichtungsmatrix W:\n",
      "W.shape = (8, 8)\n",
      "W = array([[ 80629.34129337,      0.        ,      0.        ,\n",
      "             0.        ,      0.        ,      0.        ,\n",
      "             0.        ,      0.        ],\n",
      "       [     0.        ,  56403.43595568,      0.        ,\n",
      "             0.        ,      0.        ,      0.        ,\n",
      "             0.        ,      0.        ],\n",
      "       [     0.        ,      0.        ,  51717.53013034,\n",
      "             0.        ,      0.        ,      0.        ,\n",
      "             0.        ,      0.        ],\n",
      "       [     0.        ,      0.        ,      0.        ,\n",
      "         49385.61212761,      0.        ,      0.        ,\n",
      "             0.        ,      0.        ],\n",
      "       [     0.        ,      0.        ,      0.        ,\n",
      "             0.        ,  99332.59310101,      0.        ,\n",
      "             0.        ,      0.        ],\n",
      "       [     0.        ,      0.        ,      0.        ,\n",
      "             0.        ,      0.        , 152282.27863975,\n",
      "             0.        ,      0.        ],\n",
      "       [     0.        ,      0.        ,      0.        ,\n",
      "             0.        ,      0.        ,      0.        ,\n",
      "        296112.26907967,      0.        ],\n",
      "       [     0.        ,      0.        ,      0.        ,\n",
      "             0.        ,      0.        ,      0.        ,\n",
      "             0.        , 472574.91772621]])\n"
     ]
    }
   ],
   "source": [
    "W = np.eye(8,8) * (1/y_err**2)\n",
    "print('Gewichtungsmatrix W:')\n",
    "print(f'{W.shape = }')\n",
    "print(f'{W = }')"
   ]
  },
  {
   "cell_type": "markdown",
   "metadata": {},
   "source": [
    "### $\\vec{a} = (A^T W A)^-1 A^T W \\vec{y}$"
   ]
  },
  {
   "cell_type": "code",
   "execution_count": 19,
   "metadata": {},
   "outputs": [
    {
     "name": "stdout",
     "output_type": "stream",
     "text": [
      "a_w.shape = (7,)\n",
      "a_w = array([ 1.03975576e-01,  1.92955244e-02,  6.17000828e-02, -3.75650726e-02,\n",
      "        7.91884400e-03, -7.34894257e-04,  2.56958560e-05])\n"
     ]
    }
   ],
   "source": [
    "a_w = np.linalg.inv(A.T @ W @ A) @ A.T @ W @ y_mean\n",
    "print(f'{a_w.shape = }')\n",
    "print(f'{a_w = }')"
   ]
  },
  {
   "cell_type": "code",
   "execution_count": 21,
   "metadata": {},
   "outputs": [
    {
     "data": {
      "image/png": "[encoded data removed]",
      "text/plain": [
       "<Figure size 432x288 with 1 Axes>"
      ]
     },
     "metadata": {
      "needs_background": "light"
     },
     "output_type": "display_data"
    }
   ],
   "source": [
    "#plt.plot(x,y_mean,'x',label=\"Mittelwerte\")\n",
    "plt.errorbar(x,y_mean, yerr= y_err,fmt=\"_\", label = \"Mittelwerte der Messung\")\n",
    "#plt.plot(x,y, \"o\", label = \"Messwerte aus a)\")\n",
    "plt.plot(val,polynom_6(val,a_w),label=\"gewichteter Fit\")\n",
    "#plt.plot(val,polynom_6(val,a),label=\"ungewichteter Fit\")\n",
    "plt.grid()\n",
    "plt.legend(loc='best')\n",
    "plt.tight_layout()"
   ]
  },
  {
   "cell_type": "code",
   "execution_count": null,
   "metadata": {},
   "outputs": [],
   "source": []
  }
 ],
 "metadata": {
  "kernelspec": {
   "display_name": "Python 3 (ipykernel)",
   "language": "python",
   "name": "python3"
  },
  "language_info": {
   "codemirror_mode": {
    "name": "ipython",
    "version": 3
   },
   "file_extension": ".py",
   "mimetype": "text/x-python",
   "name": "python",
   "nbconvert_exporter": "python",
   "pygments_lexer": "ipython3",
   "version": "3.8.8"
  }
 },
 "nbformat": 4,
 "nbformat_minor": 4
}
