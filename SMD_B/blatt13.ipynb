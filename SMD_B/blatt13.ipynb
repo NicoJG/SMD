{
 "cells": [
  {
   "cell_type": "markdown",
   "id": "8ab0f782",
   "metadata": {},
   "source": [
    "## Aufgabe 30 Methode der kleinsten Quadrate"
   ]
  },
  {
   "cell_type": "code",
   "execution_count": 1,
   "id": "56de3e6a",
   "metadata": {},
   "outputs": [],
   "source": [
    "import numpy as np\n",
    "import matplotlib.pyplot as plt"
   ]
  },
  {
   "cell_type": "markdown",
   "id": "634f1465",
   "metadata": {},
   "source": [
    "### a) Designmatrix A"
   ]
  },
  {
   "cell_type": "code",
   "execution_count": 2,
   "id": "7ea71728",
   "metadata": {
    "scrolled": true
   },
   "outputs": [
    {
     "data": {
      "text/plain": [
       "((12,), (12,))"
      ]
     },
     "execution_count": 2,
     "metadata": {},
     "output_type": "execute_result"
    }
   ],
   "source": [
    "psi = np.arange(0,331,30) # in degree\n",
    "asym = [-0.032,0.010,0.057,\n",
    "        0.068,0.076,0.080,\n",
    "        0.031,0.005,-0.041,\n",
    "        -0.090,-0.088,-0.074]\n",
    "asym = np.array(asym)\n",
    "asym_err = 0.011\n",
    "\n",
    "psi.shape, asym.shape"
   ]
  },
  {
   "cell_type": "code",
   "execution_count": 3,
   "id": "936d8a8d",
   "metadata": {},
   "outputs": [
    {
     "data": {
      "text/plain": [
       "array([0.        , 0.52359878, 1.04719755, 1.57079633, 2.0943951 ,\n",
       "       2.61799388, 3.14159265, 3.66519143, 4.1887902 , 4.71238898,\n",
       "       5.23598776, 5.75958653])"
      ]
     },
     "execution_count": 3,
     "metadata": {},
     "output_type": "execute_result"
    }
   ],
   "source": [
    "psi = np.radians(psi)\n",
    "\n",
    "psi"
   ]
  },
  {
   "cell_type": "code",
   "execution_count": 4,
   "id": "f270fa7b",
   "metadata": {},
   "outputs": [
    {
     "data": {
      "text/plain": [
       "((12, 2),\n",
       " array([[ 1.00000000e+00,  0.00000000e+00],\n",
       "        [ 8.66025404e-01,  5.00000000e-01],\n",
       "        [ 5.00000000e-01,  8.66025404e-01],\n",
       "        [ 6.12323400e-17,  1.00000000e+00],\n",
       "        [-5.00000000e-01,  8.66025404e-01],\n",
       "        [-8.66025404e-01,  5.00000000e-01],\n",
       "        [-1.00000000e+00,  1.22464680e-16],\n",
       "        [-8.66025404e-01, -5.00000000e-01],\n",
       "        [-5.00000000e-01, -8.66025404e-01],\n",
       "        [-1.83697020e-16, -1.00000000e+00],\n",
       "        [ 5.00000000e-01, -8.66025404e-01],\n",
       "        [ 8.66025404e-01, -5.00000000e-01]]))"
      ]
     },
     "execution_count": 4,
     "metadata": {},
     "output_type": "execute_result"
    }
   ],
   "source": [
    "# design matrix:\n",
    "A = np.column_stack([np.cos(psi),np.sin(psi)])\n",
    "\n",
    "A.shape, A"
   ]
  },
  {
   "cell_type": "markdown",
   "id": "41410a70",
   "metadata": {},
   "source": [
    "### b) Lösungsvektor $\\hat{\\vec{a}}$\n",
    "\n",
    "$\\hat{\\vec{a}} = (A^T A)^{-1} A^T \\vec{y}$"
   ]
  },
  {
   "cell_type": "code",
   "execution_count": 5,
   "id": "94076662",
   "metadata": {},
   "outputs": [],
   "source": [
    "y = asym"
   ]
  },
  {
   "cell_type": "code",
   "execution_count": 6,
   "id": "cdfa4da0",
   "metadata": {},
   "outputs": [
    {
     "data": {
      "text/plain": [
       "array([-0.0375063 ,  0.07739978])"
      ]
     },
     "execution_count": 6,
     "metadata": {},
     "output_type": "execute_result"
    }
   ],
   "source": [
    "a = np.linalg.inv(A.T @ A) @ A.T @ y\n",
    "\n",
    "a"
   ]
  },
  {
   "cell_type": "markdown",
   "id": "4d7de873",
   "metadata": {},
   "source": [
    "### c) Kovarianzmatrix  $V[\\hat{\\vec{a}}]$\n",
    "$V[\\vec{y}] = \\sigma^2 \\mathbb{1}$  \n",
    "$V[\\hat{\\vec{a}}] = \\sigma^2 (A^T A)^{-1}$"
   ]
  },
  {
   "cell_type": "code",
   "execution_count": 7,
   "id": "1f911a5b",
   "metadata": {},
   "outputs": [],
   "source": [
    "sigma = asym_err"
   ]
  },
  {
   "cell_type": "code",
   "execution_count": 8,
   "id": "3788a220",
   "metadata": {},
   "outputs": [
    {
     "data": {
      "text/plain": [
       "array([[ 2.01666667e-05, -1.67921232e-21],\n",
       "       [-1.67921232e-21,  2.01666667e-05]])"
      ]
     },
     "execution_count": 8,
     "metadata": {},
     "output_type": "execute_result"
    }
   ],
   "source": [
    "# Kovarianzmatrix:\n",
    "V_a = sigma**2 * np.linalg.inv(A.T @ A) \n",
    "\n",
    "V_a"
   ]
  },
  {
   "cell_type": "code",
   "execution_count": 9,
   "id": "584c0cfe",
   "metadata": {},
   "outputs": [
    {
     "data": {
      "text/plain": [
       "(array([0.00449073, 0.00449073]), -8.326672684688675e-17)"
      ]
     },
     "execution_count": 9,
     "metadata": {},
     "output_type": "execute_result"
    }
   ],
   "source": [
    "# Fehler von a:\n",
    "a_err = np.sqrt(np.diag(V_a)) \n",
    "# Korrelationskoeffizient:\n",
    "rho = V_a[1,0] / a_err[0]**2 \n",
    "\n",
    "a_err, rho"
   ]
  },
  {
   "cell_type": "markdown",
   "id": "e30bb9b2",
   "metadata": {},
   "source": [
    "### d) $A_0$ und $\\delta$ aus $a_1$ und $a_2$ mit Fehler und Korrelation\n",
    "\n",
    "$f(\\Psi) = A_0 \\cos(\\Psi + \\delta) = a_1 \\cos(\\Psi) + a_2 \\sin(\\Psi)$  \n",
    "siehe OneNote für folgendes:  \n",
    "$A_0 = \\frac{a_1}{\\cos(\\arctan(-a_2/a_1))}$  \n",
    "$\\delta = \\arctan(-a_2/a_1)$   \n",
    "\n",
    "$V\\left[\\begin{pmatrix}A_0 \\\\ \\delta \\end{pmatrix}\\right] = J \\cdot V[\\hat{\\vec{a}}] \\cdot J^T$  \n",
    "mit $J = \n",
    "\\begin{pmatrix} \n",
    "    \\left( \\frac{a_2^2}{a_1^2} + 1 \\right)^{-1/2} &\n",
    "    \\frac{a_2}{a_1}\\left( \\frac{a_2^2}{a_1^2} + 1 \\right)^{-1/2} \\\\\n",
    "    \\frac{a_2}{a_1^2+a_2^2} & -\\frac{a_1}{a_1^2+a_2^2}\n",
    "\\end{pmatrix}$"
   ]
  },
  {
   "cell_type": "code",
   "execution_count": 10,
   "id": "8b773c1a",
   "metadata": {},
   "outputs": [
    {
     "data": {
      "text/plain": [
       "(-0.0860084162956094, 1.1195615399310932)"
      ]
     },
     "execution_count": 10,
     "metadata": {},
     "output_type": "execute_result"
    }
   ],
   "source": [
    "# A_0 und delta:\n",
    "a1 = a[0]\n",
    "a2 = a[1]\n",
    "A_0 = a1 / np.cos(np.arctan(-a2/a1))\n",
    "delta = np.arctan(-a2/a1)\n",
    "\n",
    "A_0, delta"
   ]
  },
  {
   "cell_type": "code",
   "execution_count": 11,
   "id": "1ea58d4f",
   "metadata": {},
   "outputs": [
    {
     "data": {
      "text/plain": [
       "array([[ 0.43607706, -0.89990933],\n",
       "       [10.46303798,  5.07016733]])"
      ]
     },
     "execution_count": 11,
     "metadata": {},
     "output_type": "execute_result"
    }
   ],
   "source": [
    "# Jacobi-Matrix:\n",
    "J = [[(a2**2/a1**2+1)**-(1/2), (a2/a1)*(a2**2/a1**2+1)**-(1/2)],\n",
    "     [a2/(a1**2+a2**2), -a1/(a1**2+a2**2)]]\n",
    "J = np.array(J)\n",
    "\n",
    "J"
   ]
  },
  {
   "cell_type": "code",
   "execution_count": 12,
   "id": "197d155d",
   "metadata": {},
   "outputs": [
    {
     "data": {
      "text/plain": [
       "array([[2.01666667e-05, 2.71050543e-20],\n",
       "       [1.35525272e-20, 2.72616550e-03]])"
      ]
     },
     "execution_count": 12,
     "metadata": {},
     "output_type": "execute_result"
    }
   ],
   "source": [
    "# Kovarianzmatrix:\n",
    "V = J @ V_a @ J.T\n",
    "\n",
    "V"
   ]
  },
  {
   "cell_type": "code",
   "execution_count": null,
   "id": "f64fd6b3",
   "metadata": {},
   "outputs": [],
   "source": []
  }
 ],
 "metadata": {
  "kernelspec": {
   "display_name": "Python 3 (ipykernel)",
   "language": "python",
   "name": "python3"
  },
  "language_info": {
   "codemirror_mode": {
    "name": "ipython",
    "version": 3
   },
   "file_extension": ".py",
   "mimetype": "text/x-python",
   "name": "python",
   "nbconvert_exporter": "python",
   "pygments_lexer": "ipython3",
   "version": "3.8.8"
  }
 },
 "nbformat": 4,
 "nbformat_minor": 5
}
