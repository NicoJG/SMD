{
 "cells": [
  {
   "cell_type": "markdown",
   "id": "8ab0f782",
   "metadata": {},
   "source": [
    "# Aufgabe 30 Methode der kleinsten Quadrate"
   ]
  },
  {
   "cell_type": "code",
   "execution_count": 1,
   "id": "56de3e6a",
   "metadata": {},
   "outputs": [],
   "source": [
    "import numpy as np\n",
    "import matplotlib.pyplot as plt"
   ]
  },
  {
   "cell_type": "markdown",
   "id": "634f1465",
   "metadata": {},
   "source": [
    "## a) Designmatrix A  \n",
    "\n",
    "hier $\\text{Asymmetrie} = f(\\Psi) = a_1 f_1(\\Psi) + a_2 f_2(\\Psi)$  \n",
    "mit $f_1(\\Psi) = \\cos(\\Psi)$, $f_2(\\Psi) = \\sin(\\Psi)$  \n",
    "Designmatrix:  $A = \n",
    "\\begin{pmatrix}\n",
    "    f_1(\\Psi_1) & f_2(\\Psi_1) & ... \\\\\n",
    "    f_1(\\Psi_2) & f_2(\\Psi_2) & ... \\\\\n",
    "    ... & ... & ...\n",
    "\\end{pmatrix}$"
   ]
  },
  {
   "cell_type": "code",
   "execution_count": 2,
   "id": "18c2a206-a7bf-4004-af68-a4ccd3a91285",
   "metadata": {},
   "outputs": [
    {
     "name": "stdout",
     "output_type": "stream",
     "text": [
      "psi.shape = (12,)\n",
      "asym.shape = (12,)\n"
     ]
    }
   ],
   "source": [
    "psi = np.arange(0,331,30) # in Grad\n",
    "psi = np.radians(psi) # in rad\n",
    "asym = [-0.032,0.010,0.057,\n",
    "        0.068,0.076,0.080,\n",
    "        0.031,0.005,-0.041,\n",
    "        -0.090,-0.088,-0.074]\n",
    "asym = np.array(asym)\n",
    "asym_err = 0.011\n",
    "\n",
    "print(f'{psi.shape = }')\n",
    "print(f'{asym.shape = }')"
   ]
  },
  {
   "cell_type": "code",
   "execution_count": 3,
   "id": "f270fa7b",
   "metadata": {
    "tags": []
   },
   "outputs": [
    {
     "name": "stdout",
     "output_type": "stream",
     "text": [
      "Designmatrix A:\n",
      "A.shape = (12, 2)\n",
      "A = array([[ 1.00000000e+00,  0.00000000e+00],\n",
      "       [ 8.66025404e-01,  5.00000000e-01],\n",
      "       [ 5.00000000e-01,  8.66025404e-01],\n",
      "       [ 6.12323400e-17,  1.00000000e+00],\n",
      "       [-5.00000000e-01,  8.66025404e-01],\n",
      "       [-8.66025404e-01,  5.00000000e-01],\n",
      "       [-1.00000000e+00,  1.22464680e-16],\n",
      "       [-8.66025404e-01, -5.00000000e-01],\n",
      "       [-5.00000000e-01, -8.66025404e-01],\n",
      "       [-1.83697020e-16, -1.00000000e+00],\n",
      "       [ 5.00000000e-01, -8.66025404e-01],\n",
      "       [ 8.66025404e-01, -5.00000000e-01]])\n"
     ]
    }
   ],
   "source": [
    "# design matrix:\n",
    "A = np.column_stack([np.cos(psi),np.sin(psi)])\n",
    "\n",
    "print('Designmatrix A:')\n",
    "print(f'{A.shape = }')\n",
    "print(f'{A = }')"
   ]
  },
  {
   "cell_type": "markdown",
   "id": "41410a70",
   "metadata": {},
   "source": [
    "## b) Lösungsvektor $\\hat{\\vec{a}}$\n",
    "\n",
    "$\\hat{\\vec{a}} = (A^T A)^{-1} A^T \\vec{y}$  \n",
    "mit $\\vec{y} = \\text{Asymmetrien}$"
   ]
  },
  {
   "cell_type": "code",
   "execution_count": 4,
   "id": "cdfa4da0",
   "metadata": {},
   "outputs": [
    {
     "name": "stdout",
     "output_type": "stream",
     "text": [
      "a.shape = (2,)\n",
      "a = array([-0.0375063 ,  0.07739978])\n"
     ]
    }
   ],
   "source": [
    "y = asym\n",
    "a = np.linalg.inv(A.T @ A) @ A.T @ y\n",
    "\n",
    "print(f'{a.shape = }')\n",
    "print(f'{a = }')"
   ]
  },
  {
   "cell_type": "markdown",
   "id": "4d7de873",
   "metadata": {},
   "source": [
    "## c) Kovarianzmatrix  $V[\\hat{\\vec{a}}]$\n",
    "$V[\\vec{y}] = \\sigma^2 1$  \n",
    "$V[\\hat{\\vec{a}}] = \\sigma^2 (A^T A)^{-1}$"
   ]
  },
  {
   "cell_type": "code",
   "execution_count": 5,
   "id": "1f911a5b",
   "metadata": {},
   "outputs": [],
   "source": [
    "sigma = asym_err"
   ]
  },
  {
   "cell_type": "code",
   "execution_count": 6,
   "id": "3788a220",
   "metadata": {},
   "outputs": [
    {
     "name": "stdout",
     "output_type": "stream",
     "text": [
      "Kovarianzmatrix von a:\n",
      "V_a.shape = (2, 2)\n",
      "V_a = array([[ 2.01666667e-05, -1.31944981e-21],\n",
      "       [-1.31944981e-21,  2.01666667e-05]])\n"
     ]
    }
   ],
   "source": [
    "# Kovarianzmatrix:\n",
    "V_a = sigma**2 * np.linalg.inv(A.T @ A) \n",
    "\n",
    "print('Kovarianzmatrix von a:')\n",
    "print(f'{V_a.shape = }')\n",
    "print(f'{V_a = }')"
   ]
  },
  {
   "cell_type": "code",
   "execution_count": 7,
   "id": "584c0cfe",
   "metadata": {},
   "outputs": [
    {
     "name": "stdout",
     "output_type": "stream",
     "text": [
      "Fehler von a = [0.00449073 0.00449073]\n",
      "Korrelationskoeffizient von a = -6.542726332681616e-17\n"
     ]
    }
   ],
   "source": [
    "# Fehler von a:\n",
    "a_err = np.sqrt(np.diag(V_a)) \n",
    "# Korrelationskoeffizient:\n",
    "rho = V_a[1,0] / a_err[0]**2 \n",
    "\n",
    "print(f'Fehler von a = {a_err}')\n",
    "print(f'Korrelationskoeffizient von a = {rho}')"
   ]
  },
  {
   "cell_type": "markdown",
   "id": "e30bb9b2",
   "metadata": {},
   "source": [
    "## d) $A_0$ und $\\delta$ berechnen (aus $a_1$ und $a_2$, mit Fehler und Korrelation)\n",
    "\n",
    "$f(\\Psi) = A_0 \\cos(\\Psi + \\delta) = a_1 \\cos(\\Psi) + a_2 \\sin(\\Psi)$  \n",
    "siehe OneNote weiter unten für folgendes:  \n",
    "$A_0 = \\frac{a_1}{\\cos(\\arctan(-a_2/a_1))}$  \n",
    "$\\delta = \\arctan(-a_2/a_1)$   \n",
    "\n",
    "$V\\left[\\begin{pmatrix}A_0 \\\\ \\delta \\end{pmatrix}\\right] = J \\cdot V[\\hat{\\vec{a}}] \\cdot J^T$  \n",
    "mit $J = \n",
    "\\begin{pmatrix} \n",
    "    \\left( \\frac{a_2^2}{a_1^2} + 1 \\right)^{-1/2} &\n",
    "    \\frac{a_2}{a_1}\\left( \\frac{a_2^2}{a_1^2} + 1 \\right)^{-1/2} \\\\\n",
    "    \\frac{a_2}{a_1^2+a_2^2} & -\\frac{a_1}{a_1^2+a_2^2}\n",
    "\\end{pmatrix}$"
   ]
  },
  {
   "cell_type": "code",
   "execution_count": 14,
   "id": "8b773c1a",
   "metadata": {},
   "outputs": [
    {
     "name": "stdout",
     "output_type": "stream",
     "text": [
      "A_0 = 0.08600841629560943\n",
      "delta = -2.0220311136587\n"
     ]
    }
   ],
   "source": [
    "# A_0 und delta:\n",
    "a1 = a[0]\n",
    "a2 = a[1]\n",
    "A_0 = a1 / np.cos(np.arctan2(-a2,a1))\n",
    "delta = np.arctan2(-a2,a1) # arctan ist falsch arctan2 benötigt\n",
    "\n",
    "print(f'{A_0 = }')\n",
    "print(f'{delta = }')"
   ]
  },
  {
   "cell_type": "code",
   "execution_count": 9,
   "id": "1ea58d4f",
   "metadata": {},
   "outputs": [
    {
     "name": "stdout",
     "output_type": "stream",
     "text": [
      "Jacobi-Matrix:\n",
      "J = array([[ 0.43607706, -0.89990933],\n",
      "       [10.46303798,  5.07016733]])\n"
     ]
    }
   ],
   "source": [
    "# Jacobi-Matrix:\n",
    "J = [[(a2**2/a1**2+1)**-(1/2), (a2/a1)*(a2**2/a1**2+1)**-(1/2)],\n",
    "     [a2/(a1**2+a2**2), -a1/(a1**2+a2**2)]]\n",
    "J = np.array(J)\n",
    "\n",
    "print('Jacobi-Matrix:')\n",
    "print(f'{J = }')"
   ]
  },
  {
   "cell_type": "code",
   "execution_count": 10,
   "id": "197d155d",
   "metadata": {},
   "outputs": [
    {
     "name": "stdout",
     "output_type": "stream",
     "text": [
      "Kovarianzmatrix:\n",
      "V = array([[2.01666667e-05, 2.71050543e-20],\n",
      "       [1.35525272e-20, 2.72616550e-03]])\n"
     ]
    }
   ],
   "source": [
    "# Kovarianzmatrix:\n",
    "V = J @ V_a @ J.T\n",
    "\n",
    "print('Kovarianzmatrix:')\n",
    "print(f'{V = }')"
   ]
  },
  {
   "cell_type": "code",
   "execution_count": 11,
   "id": "54df79bb-b4bf-4614-b928-746edf33f9ac",
   "metadata": {},
   "outputs": [
    {
     "name": "stdout",
     "output_type": "stream",
     "text": [
      "Fehler von A_0 = 0.004490731195102493\n",
      "Fehler von delta = 0.05221269485613977\n",
      "Korrelationskoeffizient = 6.720261399703542e-16\n"
     ]
    }
   ],
   "source": [
    "# Fehler von a:\n",
    "err = np.sqrt(np.diag(V)) \n",
    "# Korrelationskoeffizient:\n",
    "rho_ = V[1,0] / err[0]**2 \n",
    "\n",
    "print(f'Fehler von A_0 = {err[0]}')\n",
    "print(f'Fehler von delta = {err[1]}')\n",
    "print(f'Korrelationskoeffizient = {rho_}')"
   ]
  },
  {
   "cell_type": "markdown",
   "id": "802186f5-919d-431b-b02e-af1377f0cbc3",
   "metadata": {},
   "source": [
    "## Endergebnis:  \n",
    "\n",
    "für $f(\\Psi) = A_0 \\cos(\\Psi + \\delta) = a_1 \\cos(\\Psi) + a_2 \\sin(\\Psi)$  \n",
    "ergibt sich aus den gegebenen Daten mit der Methode der kleinsten Quadrate:  \n",
    "$a_1 = (-0.0375 \\pm 0.0045)$,  \n",
    "$a_2 = (0.0774 \\pm 0.0045)$,  \n",
    "$A_0 = (-0.0860 \\pm 0.0045)$,  \n",
    "$\\delta = (1.120 \\pm 0.052)$\n",
    "\n",
    "Die Korrelationskoeffizienten sind mit $\\approx 10^{-20}$ nahezu 0 und würden wir nicht weiter für eine Analyse beachten.  \n",
    "Zudem handelt es sich hierbei vermutlich eher um Rundungsfehler, da für $A_0$ und $\\delta$ die Kovarianzmatrix nicht symmetrisch ist."
   ]
  },
  {
   "cell_type": "code",
   "execution_count": null,
   "id": "89ccede3-a465-46e9-91bd-a1850a042d3c",
   "metadata": {},
   "outputs": [],
   "source": []
  }
 ],
 "metadata": {
  "kernelspec": {
   "display_name": "Python 3",
   "language": "python",
   "name": "python3"
  },
  "language_info": {
   "codemirror_mode": {
    "name": "ipython",
    "version": 3
   },
   "file_extension": ".py",
   "mimetype": "text/x-python",
   "name": "python",
   "nbconvert_exporter": "python",
   "pygments_lexer": "ipython3",
   "version": "3.8.8"
  }
 },
 "nbformat": 4,
 "nbformat_minor": 5
}
