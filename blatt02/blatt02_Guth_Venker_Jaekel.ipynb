{
 "cells": [
  {
   "cell_type": "markdown",
   "id": "96a9e341",
   "metadata": {},
   "source": [
    "# Abgabe SMD Blatt 01 \n",
    "### von Nico Guth, David Venker, Jan Jäkel"
   ]
  },
  {
   "cell_type": "markdown",
   "id": "b8895b4c",
   "metadata": {},
   "source": [
    "## Aufgabe 1: Würfel"
   ]
  },
  {
   "cell_type": "markdown",
   "id": "641c0c69",
   "metadata": {},
   "source": [
    "a) \n",
    "\\begin{align*}\n",
    "P(W_r +W_b = 9) &= P(W_r = 3 \\wedge W_b=6) + P(W_r = 4 \\wedge W_b=5) \\\\\n",
    "&+ P(W_r = 6 \\wedge W_b=3) + P(W_r = 5 \\wedge W_b=4) \\\\\n",
    "&= \\frac{4}{36}\n",
    "\\end{align*}"
   ]
  },
  {
   "cell_type": "markdown",
   "id": "a6e51538",
   "metadata": {},
   "source": [
    "b) \n",
    "\\begin{align*}\n",
    "P(W_r + W_b \\geq 9) &= P(W_r \\geq 3 \\wedge W_b =6) + P(W_r \\geq 4 \\wedge W_b = 5) + \\text{...} + P(W_r=6 \\wedge W_b \\geq 3) + \\text{...} \\\\\n",
    "&= \\frac{10}{36}\n",
    "\\end{align*}"
   ]
  },
  {
   "cell_type": "markdown",
   "id": "7f075c29",
   "metadata": {},
   "source": [
    "c)\n",
    "\\begin{align*}\n",
    "P((W_r = 4 \\wedge W_b = 5) \\vee (W_r = 5 \\wedge W_b = 4)) &= P(W_r = 4 \\wedge W_b = 5) + P(W_r = 5 \\wedge W_b = 4) \\\\\n",
    "&= \\frac{2}{36}\n",
    "\\end{align*}"
   ]
  },
  {
   "cell_type": "markdown",
   "id": "bbd079e7",
   "metadata": {},
   "source": [
    "d) \n",
    "\\begin{align*}\n",
    "P(W_r = 4 \\wedge W_b = 5) &= P(W_r = 4) \\cdot P(W_b = 5) \\\\\n",
    "&= \\frac{1}{36}\n",
    "\\end{align*}"
   ]
  },
  {
   "cell_type": "markdown",
   "id": "5b36135e",
   "metadata": {},
   "source": [
    "e) \n",
    "\\begin{align*}\n",
    "P(W_r+W_b=9 | W_r = 4) &= P(W_b = 5 | W_r = 4) \\\\\n",
    "&= P(W_b = 5) \\\\\n",
    "&= \\frac{1}{6}\n",
    "\\end{align*}"
   ]
  },
  {
   "cell_type": "markdown",
   "id": "42033b13",
   "metadata": {},
   "source": [
    "f) \n",
    "\\begin{align*}\n",
    "P(W_r + W_b \\geq 9 | W_r = 4) &= P(W_b = 5) + P(W_b = 6) \\\\\n",
    "&= \\frac{1}{3}\n",
    "\\end{align*}"
   ]
  },
  {
   "cell_type": "markdown",
   "id": "a115fe60",
   "metadata": {},
   "source": [
    "g) \n",
    "\\begin{align*}\n",
    "P(W_b = 5 | W_r = 4) &= P(W_b = 5) \\\\\n",
    "&= \\frac{1}{6}\n",
    "\\end{align*}"
   ]
  },
  {
   "cell_type": "markdown",
   "id": "bf794b14",
   "metadata": {},
   "source": [
    "## Aufgabe 4 *Maxwellsche Geschwindigkeitsverteilung* (Code Teil)"
   ]
  },
  {
   "cell_type": "markdown",
   "id": "5a4fd0da",
   "metadata": {},
   "source": [
    "$f(v) = N \\cdot \\exp(\\frac{- m \\, v^2}{2 \\, k_\\text{B} \\, T}) ⋅ 4 \\cdot  \\pi \\, v^2$"
   ]
  },
  {
   "cell_type": "code",
   "execution_count": 1,
   "id": "7a046106",
   "metadata": {},
   "outputs": [],
   "source": [
    "import numpy as np\n",
    "import matplotlib.pyplot as plt\n",
    "import scipy as sc\n",
    "from scipy import special\n",
    "from scipy.optimize import root_scalar"
   ]
  },
  {
   "cell_type": "markdown",
   "id": "3c2c34ca",
   "metadata": {},
   "source": [
    "## c) (Code Teil)"
   ]
  },
  {
   "cell_type": "markdown",
   "id": "26ce43d5",
   "metadata": {},
   "source": [
    "$F(\\beta) := \\text{erf}(\\beta) - \\frac{2}{\\sqrt{\\pi}} \\beta \\exp(-\\beta^2)-\\frac{1}{2} \\overset{!}{=} 0$  \n",
    "mit $\\beta := \\frac{v_{0,5}}{v_m}$"
   ]
  },
  {
   "cell_type": "code",
   "execution_count": 2,
   "id": "17165e5c",
   "metadata": {},
   "outputs": [],
   "source": [
    "def F(b):\n",
    "    return( special.erf(b) - 2/np.sqrt(np.pi) * b * np.exp(- (b)**2) - 1/2  )"
   ]
  },
  {
   "cell_type": "code",
   "execution_count": 3,
   "id": "f9d37ef3",
   "metadata": {},
   "outputs": [
    {
     "name": "stdout",
     "output_type": "stream",
     "text": [
      "Nullstelle: 1.087652031758168\n"
     ]
    },
    {
     "data": {
      "image/png": "[encoded data removed]",
      "text/plain": [
       "<Figure size 432x288 with 1 Axes>"
      ]
     },
     "metadata": {
      "needs_background": "light"
     },
     "output_type": "display_data"
    }
   ],
   "source": [
    "x = np.linspace(0, 2, 100)\n",
    "plt.plot(x,F(x))\n",
    "v_0 = sc.optimize.root_scalar(F, x0=0,x1=1 ).root\n",
    "plt.plot(v_0,F(v_0), \"ro\")\n",
    "plt.xlabel(r'$\\beta$')\n",
    "plt.ylabel(r'$F(\\beta)$')\n",
    "print(\"Nullstelle:\", v_0)"
   ]
  },
  {
   "cell_type": "markdown",
   "id": "035e8fe4",
   "metadata": {},
   "source": [
    "## d) (Code Teil)"
   ]
  },
  {
   "cell_type": "markdown",
   "id": "b533b948",
   "metadata": {},
   "source": [
    "$G(\\gamma) := 2 \\gamma^2 \\exp(-\\gamma^2)-\\exp(-1) \\overset{!}{=} 0$  \n",
    "mit $\\gamma := \\frac{v_w}{v_m}$"
   ]
  },
  {
   "cell_type": "code",
   "execution_count": 4,
   "id": "90945b2c",
   "metadata": {},
   "outputs": [],
   "source": [
    "def G(g):\n",
    "    return ( 2 * g**2 * np.exp(- (g)**2)  - np.exp(-1))"
   ]
  },
  {
   "cell_type": "code",
   "execution_count": 5,
   "id": "b7540e86",
   "metadata": {},
   "outputs": [
    {
     "data": {
      "image/png": "[encoded data removed]",
      "text/plain": [
       "<Figure size 432x288 with 1 Axes>"
      ]
     },
     "metadata": {
      "needs_background": "light"
     },
     "output_type": "display_data"
    }
   ],
   "source": [
    "y = np.linspace(0,2,100)\n",
    "plt.plot(y,G(y))\n",
    "v_1 = sc.optimize.root_scalar(G, x0=0,x1=1 ).root\n",
    "v_2 = sc.optimize.root_scalar(G, x0=1,x1=2 ).root\n",
    "plt.plot(v_1,G(v_1), \"ro\")\n",
    "plt.plot(v_2,G(v_2), \"ro\")\n",
    "plt.xlabel(r'$\\gamma$')\n",
    "plt.ylabel(r'$G(\\gamma)$');"
   ]
  },
  {
   "cell_type": "code",
   "execution_count": 6,
   "id": "4ece751a",
   "metadata": {},
   "outputs": [
    {
     "name": "stdout",
     "output_type": "stream",
     "text": [
      "Linke Nullstelle: 0.4816232479713991\n",
      "Rechte Nullstelle: 1.6365656082224935\n",
      "Breite: 1.1549423602510944\n"
     ]
    }
   ],
   "source": [
    "print(\"Linke Nullstelle:\", v_1)\n",
    "print(\"Rechte Nullstelle:\", v_2)\n",
    "print(\"Breite:\",v_2 - v_1)"
   ]
  },
  {
   "cell_type": "code",
   "execution_count": null,
   "id": "b02fe15b",
   "metadata": {},
   "outputs": [],
   "source": []
  }
 ],
 "metadata": {
  "kernelspec": {
   "display_name": "Python 3",
   "language": "python",
   "name": "python3"
  },
  "language_info": {
   "codemirror_mode": {
    "name": "ipython",
    "version": 3
   },
   "file_extension": ".py",
   "mimetype": "text/x-python",
   "name": "python",
   "nbconvert_exporter": "python",
   "pygments_lexer": "ipython3",
   "version": "3.8.5"
  }
 },
 "nbformat": 4,
 "nbformat_minor": 5
}
