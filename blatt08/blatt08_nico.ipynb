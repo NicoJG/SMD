{
 "cells": [
  {
   "cell_type": "markdown",
   "id": "819ad664",
   "metadata": {},
   "source": [
    "## Aufgabe 17"
   ]
  },
  {
   "cell_type": "code",
   "execution_count": 1,
   "id": "723ce3f6",
   "metadata": {},
   "outputs": [],
   "source": [
    "import numpy as np\n",
    "import pandas as pd\n",
    "import matplotlib.pyplot as plt"
   ]
  },
  {
   "cell_type": "code",
   "execution_count": 2,
   "id": "ec7217bf",
   "metadata": {},
   "outputs": [],
   "source": [
    "import matplotlib as mpl\n",
    "mpl.rcParams['font.size'] = 15"
   ]
  },
  {
   "cell_type": "code",
   "execution_count": 3,
   "id": "590895b3",
   "metadata": {},
   "outputs": [],
   "source": [
    "# Datensatz aus der Aufgabe\n",
    "df = pd.DataFrame(\n",
    "                [[29.4, 2, 85, False, False],\n",
    "                 [26.7, 2, 90, True, False],\n",
    "                 [28.3, 1, 78, False, True],\n",
    "                 [21.1, 0, 96, False, True],\n",
    "                 [20.0, 0, 80, False, True],\n",
    "                 [18.3, 0, 70, True, False],\n",
    "                 [17.8, 1, 65, True, True],\n",
    "                 [22.2, 2, 95, False, False],\n",
    "                 [20.6, 2, 70, False, True],\n",
    "                 [23.9, 0, 80, False, True],\n",
    "                 [23.9, 2, 70, True, True],\n",
    "                 [22.2, 1, 90, True, True],\n",
    "                 [27.2, 1, 75, False, True],\n",
    "                 [21.7, 0, 80, True, False]],\n",
    "                 columns=['Temperatur', 'Wettervorhersage', 'Luftfeuchtigkeit', 'Wind', 'Fussball']\n",
    "                 )"
   ]
  },
  {
   "cell_type": "markdown",
   "id": "08a76cdf",
   "metadata": {},
   "source": [
    "### c)"
   ]
  },
  {
   "cell_type": "markdown",
   "id": "59bb4961-0887-4abf-9ed3-56ebd7bcee04",
   "metadata": {},
   "source": [
    "#### Funktionsdefinitionen"
   ]
  },
  {
   "cell_type": "code",
   "execution_count": 4,
   "id": "41106aa6-ea9b-4a3b-b703-862a36316e14",
   "metadata": {},
   "outputs": [],
   "source": [
    "# calculate the probability that the condition occurs\n",
    "# given that the conditional_condition occurs\n",
    "# with masks of the dataset as parameters\n",
    "def P(condition,conditional_condition=None):\n",
    "    if conditional_condition is None:\n",
    "        return condition.sum() / condition.size\n",
    "    else:\n",
    "        if np.any(conditional_condition):\n",
    "            return (condition&conditional_condition).sum() / conditional_condition.sum()\n",
    "        else:\n",
    "            return 0"
   ]
  },
  {
   "cell_type": "code",
   "execution_count": 5,
   "id": "7cc0e698-21d0-4f03-93ea-55d73883343f",
   "metadata": {},
   "outputs": [],
   "source": [
    "def xlog2x(P):\n",
    "    if P == 0:\n",
    "        return 0\n",
    "    else:\n",
    "        return P*np.log2(P)"
   ]
  },
  {
   "cell_type": "code",
   "execution_count": 6,
   "id": "b55e4bda-a50b-4661-bb7c-ca8b3019da7d",
   "metadata": {},
   "outputs": [],
   "source": [
    "# calculate the entropy of the X<=cut part of the dataset\n",
    "def H_low(Y,X,cut):\n",
    "    return -1 * ( xlog2x(P(Y==True, X<=cut)) + xlog2x(P(Y==False, X<=cut)) )\n",
    "\n",
    "# calculate the entropy of the X>cut part of the dataset\n",
    "def H_high(Y,X,cut):\n",
    "    return -1 * ( xlog2x(P(Y==True, X>cut)) + xlog2x(P(Y==False, X>cut)) )"
   ]
  },
  {
   "cell_type": "code",
   "execution_count": 7,
   "id": "e258c5ed-8acf-4119-a3f3-ed3472fac4f0",
   "metadata": {},
   "outputs": [],
   "source": [
    "# calculate the information gain when cutting at cut in the given feature X\n",
    "def IG(Y,X,cut):\n",
    "    H_after = P(X<=cut) * H_low(Y,X,cut) + P(X>cut) * H_high(Y,X,cut)\n",
    "    return H_before - H_after"
   ]
  },
  {
   "cell_type": "markdown",
   "id": "19ca6411-f888-4aaa-b3b5-aa943ae12463",
   "metadata": {},
   "source": [
    "#### Entropie der Wurzel berechnen"
   ]
  },
  {
   "cell_type": "code",
   "execution_count": 8,
   "id": "51f28ed1-871c-4982-9742-660eba6de744",
   "metadata": {},
   "outputs": [],
   "source": [
    "Y = df['Fussball']"
   ]
  },
  {
   "cell_type": "code",
   "execution_count": 9,
   "id": "0442ac01-2611-4a49-bb1c-64b7ef5f943e",
   "metadata": {},
   "outputs": [
    {
     "name": "stdout",
     "output_type": "stream",
     "text": [
      "Entropy before the decision: 0.9402859586706311\n"
     ]
    }
   ],
   "source": [
    "H_before = - xlog2x(P(Y==True)) - xlog2x(P(Y==False))\n",
    "print(f'Entropy before the decision: {H_before}')"
   ]
  },
  {
   "cell_type": "markdown",
   "id": "e6ff7db6-6032-4ea5-b2bd-e5a3d5193f20",
   "metadata": {},
   "source": [
    "#### Plot des Informationsgewinns pro Attribut je nach Schnitt"
   ]
  },
  {
   "cell_type": "code",
   "execution_count": 10,
   "id": "6a28bca8-dc3a-4563-8326-5781410de2e6",
   "metadata": {},
   "outputs": [],
   "source": [
    "X_cols = ['Temperatur', 'Wettervorhersage', 'Luftfeuchtigkeit', 'Wind']"
   ]
  },
  {
   "cell_type": "code",
   "execution_count": 13,
   "id": "7cc865d2-4633-4d01-8336-253643a7676c",
   "metadata": {},
   "outputs": [
    {
     "data": {
      "image/png": "[encoded data removed]",
      "text/plain": [
       "<Figure size 432x432 with 1 Axes>"
      ]
     },
     "metadata": {
      "needs_background": "light"
     },
     "output_type": "display_data"
    },
    {
     "name": "stdout",
     "output_type": "stream",
     "text": [
      "IG Werte: [0.      0.00049 0.00134 0.01032 0.01496 0.02508 0.04533 0.04771 0.1134 ]\n",
      "Maximaler IG: 0.11340086\n",
      "Bestes Schnittintervall: (28.3,29.4)\n",
      "Y(X<=Cut): (True: 9 ; False: 4)\n",
      "Y(X>Cut) : (True: 0 ; False: 1)\n",
      "\n",
      "\n"
     ]
    },
    {
     "data": {
      "image/png": "[encoded data removed]",
      "text/plain": [
       "<Figure size 432x432 with 1 Axes>"
      ]
     },
     "metadata": {
      "needs_background": "light"
     },
     "output_type": "display_data"
    },
    {
     "name": "stdout",
     "output_type": "stream",
     "text": [
      "IG Werte: [0.      0.00318 0.10224]\n",
      "Maximaler IG: 0.10224356\n",
      "Bestes Schnittintervall: (1.0,2.0)\n",
      "Y(X<=Cut): (True: 7 ; False: 2)\n",
      "Y(X>Cut) : (True: 2 ; False: 3)\n",
      "\n",
      "\n"
     ]
    },
    {
     "data": {
      "image/png": "[encoded data removed]",
      "text/plain": [
       "<Figure size 432x432 with 1 Axes>"
      ]
     },
     "metadata": {
      "needs_background": "light"
     },
     "output_type": "display_data"
    },
    {
     "name": "stdout",
     "output_type": "stream",
     "text": [
      "IG Werte: [0.      0.01032 0.01496 0.02508 0.04533 0.04771 0.09028 0.10224]\n",
      "Maximaler IG: 0.10224356\n",
      "Bestes Schnittintervall: (80.0,85.0)\n",
      "Y(X<=Cut): (True: 7 ; False: 2)\n",
      "Y(X>Cut) : (True: 2 ; False: 3)\n",
      "\n",
      "\n"
     ]
    },
    {
     "data": {
      "image/png": "[encoded data removed]",
      "text/plain": [
       "<Figure size 432x432 with 1 Axes>"
      ]
     },
     "metadata": {
      "needs_background": "light"
     },
     "output_type": "display_data"
    },
    {
     "name": "stdout",
     "output_type": "stream",
     "text": [
      "IG Werte: [0.      0.04813]\n",
      "Maximaler IG: 0.04812703\n",
      "Bestes Schnittintervall: (0.0,1.0)\n",
      "Y(X<=Cut): (True: 6 ; False: 2)\n",
      "Y(X>Cut) : (True: 3 ; False: 3)\n",
      "\n",
      "\n"
     ]
    }
   ],
   "source": [
    "for X_col in X_cols:\n",
    "    # calculate all the information gains of a particular feature\n",
    "    X = df[X_col]\n",
    "    dX = 1\n",
    "    cuts = np.linspace(X.min()-dX,X.max()+dX,500)\n",
    "    IGs = np.zeros_like(cuts)\n",
    "    for i,cut in enumerate(cuts):\n",
    "        IGs[i] = IG(Y,X,cut)\n",
    "    \n",
    "    # plot the IG to the cuts\n",
    "    plt.figure(figsize=(6,6))\n",
    "    plt.title(X_col)\n",
    "    plt.plot(cuts,IGs)\n",
    "    plt.xlabel('Cut')\n",
    "    plt.ylabel('IG')\n",
    "    plt.show()\n",
    "    \n",
    "    # print the IG values\n",
    "    with np.printoptions(precision=5):\n",
    "        print(f'IG Werte: {np.unique(IGs)}')\n",
    "    \n",
    "    # print the best IG\n",
    "    IG_max = np.max(np.unique(IGs))\n",
    "    print(f'Maximaler IG: {IG_max:.8f}')\n",
    "    \n",
    "    # print the cut interval of the best IG\n",
    "    IG_max_indices = np.where(IGs == IG_max)[0]\n",
    "    min_cut = cuts[IG_max_indices[0]]\n",
    "    max_cut = cuts[IG_max_indices[-1]]\n",
    "    print(f'Bestes Schnittintervall: ({min_cut:.1f},{max_cut:.1f})')\n",
    "    \n",
    "    # print size of the target classes if the data was cut at the highes IG\n",
    "    print(f'Y(X<=Cut): (True: {Y[X<=min_cut].sum()} ; False: {(~Y[X<=min_cut]).sum()})')\n",
    "    print(f'Y(X>Cut) : (True: {Y[X>min_cut].sum()} ; False: {(~Y[X>min_cut]).sum()})')\n",
    "    \n",
    "    print('\\n')"
   ]
  },
  {
   "cell_type": "markdown",
   "id": "0c0f9399-e455-409d-9001-3a40aaa1cd3f",
   "metadata": {},
   "source": [
    "### d) Welches Attribut eignet sich am besten zum Trennen der Daten?"
   ]
  },
  {
   "cell_type": "markdown",
   "id": "088aef6c-6cc4-4293-a474-883cd7a686ba",
   "metadata": {},
   "source": [
    "Den höchsten Informationsgewinn hat der Schnitt in der Temperatur.  \n",
    "Aber hier wird nur ein Wert abgeschnitten und somit sollte nicht die Temperatur als erstes verwendet werden.\n",
    "\n",
    "Knapp dahinter sind die Informationsgewinne bei Schnitt in der Wettervorhersage oder der Luftfeuchtigkeit.  \n",
    "Beide Attribute schneiden den Datensatz genau gleich.  \n",
    "Allerdings scheint die Verteilung der IGs der Luftfeuchtigkeit annähernd einer Normalverteilung zu folgen.\n",
    "Also würden wir uns dazu entscheiden in der Luftfeuchtigkeit die erste Entscheidung zu setzen."
   ]
  },
  {
   "cell_type": "code",
   "execution_count": null,
   "id": "f713f3f7-447f-4808-b659-07ef135c5b0f",
   "metadata": {},
   "outputs": [],
   "source": []
  }
 ],
 "metadata": {
  "kernelspec": {
   "display_name": "Python 3",
   "language": "python",
   "name": "python3"
  },
  "language_info": {
   "codemirror_mode": {
    "name": "ipython",
    "version": 3
   },
   "file_extension": ".py",
   "mimetype": "text/x-python",
   "name": "python",
   "nbconvert_exporter": "python",
   "pygments_lexer": "ipython3",
   "version": "3.8.10"
  }
 },
 "nbformat": 4,
 "nbformat_minor": 5
}
