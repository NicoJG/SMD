{
 "cells": [
  {
   "cell_type": "markdown",
   "metadata": {},
   "source": [
    "# SMD Python Hands On"
   ]
  },
  {
   "cell_type": "code",
   "execution_count": 1,
   "metadata": {},
   "outputs": [
    {
     "data": {
      "application/javascript": [
       "$.getScript('https://kmahelona.github.io/ipython_notebook_goodies/ipython_notebook_toc.js')\n"
      ],
      "text/plain": [
       "<IPython.core.display.Javascript object>"
      ]
     },
     "metadata": {},
     "output_type": "display_data"
    }
   ],
   "source": [
    "%%javascript\n",
    "$.getScript('https://kmahelona.github.io/ipython_notebook_goodies/ipython_notebook_toc.js')"
   ]
  },
  {
   "cell_type": "markdown",
   "metadata": {},
   "source": [
    "## Inhalt\n",
    "<div id=\"toc\"></div>"
   ]
  },
  {
   "cell_type": "markdown",
   "metadata": {},
   "source": [
    "## Grundlagen\n",
    "\n",
    "Werden heute hier nicht besprochen, gute Einstiegspunkte sind:\n",
    "\n",
    "* [PeP et al. Toolbox Workshop](https://toolbox.pep-dortmund.org)\n",
    "* [The scientific Python lectures](https://github.com/jrjohansson/scientific-python-lectures)\n",
    "* [Scientific Python Notebooks](https://github.com/maxnoe/scientific_python_notebooks)\n",
    "* [A Byte Of Python](https://python.swaroopch.com/)\n",
    "\n",
    "Insbesondere für den Datamining-Teil der Vorlesung:\n",
    "* [The Python Data Science Handbook](https://jakevdp.github.io/PythonDataScienceHandbook/)\n",
    "\n"
   ]
  },
  {
   "cell_type": "markdown",
   "metadata": {},
   "source": [
    "## Style Guide und Linter\n",
    "\n",
    "* Für python gibt es einen allgemein anerkannten Style Guide, pep8. Beachten!  \n",
    "  `flake8` prüft gleichzeitig das Programm auf Syntax-Fehler und auf Beachtung des styleguides.\n",
    "    * `conda install flake8`\n",
    "    * `flake8 test.py`\n",
    "* Autoformatter\n",
    "    * `black` formatiert automatische Dateien so, dass sie den Style Guide befolgen\n",
    "    \n",
    "* Alle vernünftigen Editoren können Fehler und Nichtbefolgung eines Style Guides markieren (Linting).\n",
    "  * VS Code Plugin: https://marketplace.visualstudio.com/items?itemName=ms-python.python\n",
    "  * Atom-Plugin: https://atom.io/packages/linter-flake8\n",
    "  * Vim-Plugins: https://github.com/neoclide/coc.nvim oder https://github.com/neomake/neomake oder https://github.com/vim-syntastic/syntastic\n"
   ]
  },
  {
   "cell_type": "markdown",
   "metadata": {},
   "source": [
    "## conda environments\n",
    "\n",
    "* Verschiedene Projekte können unterschiedliche und inkompatible Abhängigkeiten haben\n",
    "* Guter Stil: Isolation in Umgebungen\n",
    "* Für conda: conda environments\n",
    "* Für SMD haben wir eine vorgefertigt, mit allen benötigten / für die Lösung der Übungen erlaubten Paketen.\n",
    "* Download im Moodle: `environment.yml`.\n",
    "\n",
    "Neue Umgebung erzeugen mithilfe der Datei:\n",
    "\n",
    "```\n",
    "$ conda env create -f environment.yml\n",
    "```\n",
    "\n",
    "Die Umgebung nutzen / aktivieren:\n",
    "\n",
    "```\n",
    "$ conda activate smd\n",
    "```\n",
    "\n",
    "Python / ipython / jupyter sollten jetzt aus dieser Umgebung kommen:\n",
    "```\n",
    "$ which python\n",
    "/home/maxnoe/.local/anaconda3/envs/smd/bin/python\n",
    "```"
   ]
  },
  {
   "cell_type": "markdown",
   "metadata": {},
   "source": [
    "## numpy\n",
    "\n",
    "Wiederholdung der wichtigsten numpy Eigenschaften.\n",
    "\n",
    "* Python ist eine dynamische Sprache mit vielen Freiheiten.  \n",
    "  Das hat viele Vorteile aber auch Trade-Offs, gerade wenn es um\n",
    "  die Geschwindigkeit von numerischen Berechnungen geht\n",
    "\n",
    "* Numpy ist schnell durch Vektorisierung und kompilierten C++/C/Cython/Fortran-Code  \n",
    "   ⇒ Gute Daumenregel: Keine Python Schleifen über numpy arrays\n",
    "* Viele Funktionen für Datenanalyse, Zufallszahlen, Numerik, Lineare Algebra etc\n",
    "* Das \"naiver\" python code langsam ist, ist einer der Hauptkritikpunkte an der Sprache, trotzdem hat sie sich für Datenanalyse-Anwendungen weitgehend durchgesetzt\n",
    "* Verschiedene Ansätze um python schneller zu machen (e.g. numba, cython, ...) oder zu ersetzen (julia)"
   ]
  },
  {
   "cell_type": "code",
   "execution_count": 3,
   "metadata": {},
   "outputs": [],
   "source": [
    "import numpy as np"
   ]
  },
  {
   "cell_type": "markdown",
   "metadata": {},
   "source": [
    "## Datentypen\n",
    "\n",
    "Numpy unterstützt eine Vielzahl von Datentypen.\n",
    "Für die Vorlesung/Übung reichen meist 3:\n",
    "\n",
    "* bool: True / False\n",
    "* int64: 64-Bit signed integer\n",
    "* float64: 64-Bit floating point number \n",
    "\n",
    "Mehr zu Datentypen in den numerischen Grundlagen"
   ]
  },
  {
   "cell_type": "code",
   "execution_count": 4,
   "metadata": {},
   "outputs": [
    {
     "name": "stdout",
     "output_type": "stream",
     "text": [
      "float64 int64 bool\n"
     ]
    }
   ],
   "source": [
    "# numpy arrays from python lists\n",
    "floats = np.array([1.0, 3.14, 1e3])\n",
    "ints = np.array([1, 2, 3])\n",
    "bools = np.array([True, False, True])\n",
    "\n",
    "print(floats.dtype, ints.dtype, bools.dtype)"
   ]
  },
  {
   "cell_type": "markdown",
   "metadata": {},
   "source": [
    "### Grundlegende Eigenschaften von np.ndarrays"
   ]
  },
  {
   "cell_type": "code",
   "execution_count": 5,
   "metadata": {},
   "outputs": [
    {
     "name": "stdout",
     "output_type": "stream",
     "text": [
      "len=3, size=3, ndim=1, shape=(3,), dtype=float64\n",
      "len=2, size=6, ndim=2, shape=(2, 3), dtype=int64\n"
     ]
    }
   ],
   "source": [
    "array2d = np.array([\n",
    "    [1, 2, 3],\n",
    "    [4, 5, 6]\n",
    "])\n",
    "\n",
    "def array_info(a):\n",
    "    print(f'len={len(a)}, size={a.size}, ndim={a.ndim}, shape={a.shape}, dtype={a.dtype}')\n",
    "\n",
    "array_info(floats)\n",
    "array_info(array2d)"
   ]
  },
  {
   "cell_type": "markdown",
   "metadata": {},
   "source": [
    "### Indizierung & Masken\n",
    "\n",
    "Indizierung über Slices und/oder boolean Masken"
   ]
  },
  {
   "cell_type": "code",
   "execution_count": 6,
   "metadata": {},
   "outputs": [
    {
     "data": {
      "text/plain": [
       "array([ 1. , -3.5, 42. , -5. ])"
      ]
     },
     "execution_count": 6,
     "metadata": {},
     "output_type": "execute_result"
    }
   ],
   "source": [
    "a = np.array([1.0, -3.5, 42, -5])\n",
    "a"
   ]
  },
  {
   "cell_type": "code",
   "execution_count": 7,
   "metadata": {},
   "outputs": [
    {
     "data": {
      "text/plain": [
       "(1.0, -5.0, array([-3.5, 42. ]), array([ 1., 42.]))"
      ]
     },
     "execution_count": 7,
     "metadata": {},
     "output_type": "execute_result"
    }
   ],
   "source": [
    "a[0], a[-1], a[1:-1], a[::2]"
   ]
  },
  {
   "cell_type": "code",
   "execution_count": 8,
   "metadata": {},
   "outputs": [
    {
     "data": {
      "text/plain": [
       "array([ True, False,  True, False])"
      ]
     },
     "execution_count": 8,
     "metadata": {},
     "output_type": "execute_result"
    }
   ],
   "source": [
    "a > 0"
   ]
  },
  {
   "cell_type": "code",
   "execution_count": 9,
   "metadata": {},
   "outputs": [
    {
     "data": {
      "text/plain": [
       "array([ 1., 42.])"
      ]
     },
     "execution_count": 9,
     "metadata": {},
     "output_type": "execute_result"
    }
   ],
   "source": [
    "a[a > 0]"
   ]
  },
  {
   "cell_type": "code",
   "execution_count": 10,
   "metadata": {},
   "outputs": [
    {
     "data": {
      "text/plain": [
       "array([ 1. , -3.5, -5. ])"
      ]
     },
     "execution_count": 10,
     "metadata": {},
     "output_type": "execute_result"
    }
   ],
   "source": [
    "# parentheses are needed here\n",
    "# | = or\n",
    "# & = and\n",
    "# ~ = not\n",
    "\n",
    "a[(a > -10) & (a < 10)]"
   ]
  },
  {
   "cell_type": "markdown",
   "metadata": {},
   "source": [
    "### Das axis keyword\n",
    "\n",
    "Wichtig für aggregierende Operationen (z.B. `np.sum`, `np.mean`, `np.prod`, `np.std`)"
   ]
  },
  {
   "cell_type": "code",
   "execution_count": 11,
   "metadata": {},
   "outputs": [
    {
     "data": {
      "text/plain": [
       "array([[ 0,  1,  2],\n",
       "       [ 3,  4,  5],\n",
       "       [ 6,  7,  8],\n",
       "       [ 9, 10, 11]])"
      ]
     },
     "execution_count": 11,
     "metadata": {},
     "output_type": "execute_result"
    }
   ],
   "source": [
    "X = np.arange(12).reshape(4, 3)\n",
    "X"
   ]
  },
  {
   "cell_type": "code",
   "execution_count": 12,
   "metadata": {},
   "outputs": [
    {
     "data": {
      "text/plain": [
       "66"
      ]
     },
     "execution_count": 12,
     "metadata": {},
     "output_type": "execute_result"
    }
   ],
   "source": [
    "np.sum(X)"
   ]
  },
  {
   "cell_type": "code",
   "execution_count": 13,
   "metadata": {},
   "outputs": [
    {
     "data": {
      "text/plain": [
       "array([18, 22, 26])"
      ]
     },
     "execution_count": 13,
     "metadata": {},
     "output_type": "execute_result"
    }
   ],
   "source": [
    "np.sum(X, axis=0)"
   ]
  },
  {
   "cell_type": "markdown",
   "metadata": {},
   "source": [
    "### Broadcasting\n",
    "\n",
    "Docs: https://numpy.org/doc/stable/user/basics.broadcasting.html\n",
    "\n",
    "Mit \"broadcasting\" kann numpy auch Arrays verschiedener Größe miteinander verrechnen, wenn diese kompatible Dimensionalität haben.\n",
    "\n",
    "* Die letzten überlappenden Dimensionen müssen kompatibel sein.\n",
    "\n",
    "* Dimensionen sind kompatibel wenn:\n",
    "\n",
    "    * sie identisch sind\n",
    "    * eine von ihnen 1 ist\n",
    "\n",
    "\n",
    "Beispiel: shape (3, 2, 2) ist kompatibel mit shape (2, 2) weil die letzten Dimensionen identisch sind."
   ]
  },
  {
   "cell_type": "code",
   "execution_count": 15,
   "metadata": {},
   "outputs": [],
   "source": [
    "a = np.arange(12).reshape(4, 3)\n",
    "b = 5\n",
    "c = np.arange(3)\n",
    "d = np.arange(4)"
   ]
  },
  {
   "cell_type": "code",
   "execution_count": 16,
   "metadata": {},
   "outputs": [
    {
     "data": {
      "text/plain": [
       "array([[ 0,  1,  2],\n",
       "       [ 3,  4,  5],\n",
       "       [ 6,  7,  8],\n",
       "       [ 9, 10, 11]])"
      ]
     },
     "execution_count": 16,
     "metadata": {},
     "output_type": "execute_result"
    }
   ],
   "source": [
    "a"
   ]
  },
  {
   "cell_type": "code",
   "execution_count": 17,
   "metadata": {},
   "outputs": [
    {
     "data": {
      "text/plain": [
       "((4, 3), (3,), (4,))"
      ]
     },
     "execution_count": 17,
     "metadata": {},
     "output_type": "execute_result"
    }
   ],
   "source": [
    "a.shape, c.shape, d.shape"
   ]
  },
  {
   "cell_type": "code",
   "execution_count": 18,
   "metadata": {},
   "outputs": [
    {
     "data": {
      "text/plain": [
       "array([[-5, -4, -3],\n",
       "       [-2, -1,  0],\n",
       "       [ 1,  2,  3],\n",
       "       [ 4,  5,  6]])"
      ]
     },
     "execution_count": 18,
     "metadata": {},
     "output_type": "execute_result"
    }
   ],
   "source": [
    "a - b"
   ]
  },
  {
   "cell_type": "code",
   "execution_count": 19,
   "metadata": {},
   "outputs": [
    {
     "data": {
      "text/plain": [
       "array([[0, 0, 0],\n",
       "       [3, 3, 3],\n",
       "       [6, 6, 6],\n",
       "       [9, 9, 9]])"
      ]
     },
     "execution_count": 19,
     "metadata": {},
     "output_type": "execute_result"
    }
   ],
   "source": [
    "a - c"
   ]
  },
  {
   "cell_type": "code",
   "execution_count": 21,
   "metadata": {},
   "outputs": [
    {
     "data": {
      "text/plain": [
       "array([[0, 1, 2],\n",
       "       [2, 3, 4],\n",
       "       [4, 5, 6],\n",
       "       [6, 7, 8]])"
      ]
     },
     "execution_count": 21,
     "metadata": {},
     "output_type": "execute_result"
    }
   ],
   "source": [
    "# a - d -> error\n",
    "(a.T - d).T\n"
   ]
  },
  {
   "cell_type": "code",
   "execution_count": 22,
   "metadata": {},
   "outputs": [
    {
     "data": {
      "text/plain": [
       "array([[0, 1, 2],\n",
       "       [2, 3, 4],\n",
       "       [4, 5, 6],\n",
       "       [6, 7, 8]])"
      ]
     },
     "execution_count": 22,
     "metadata": {},
     "output_type": "execute_result"
    }
   ],
   "source": [
    "#alternativ\n",
    "a - d[:,np.newaxis]"
   ]
  },
  {
   "cell_type": "markdown",
   "metadata": {},
   "source": [
    "### Timing Beispiel: Loops vs. Numpy vektorisiert"
   ]
  },
  {
   "cell_type": "markdown",
   "metadata": {},
   "source": [
    "Aufgabe: Rechne den Punkt mit dem kleinsten Abstand zu einem anderen Punkt aus"
   ]
  },
  {
   "cell_type": "code",
   "execution_count": 24,
   "metadata": {},
   "outputs": [],
   "source": [
    "point = (0, 1)\n",
    "points = [\n",
    "    (0, 0),\n",
    "    (0.5, -0.5),\n",
    "    (1, -1),\n",
    "    (0, 2),\n",
    "    (0, 1.1),\n",
    "    (-2, 3),\n",
    "    (5, 1),\n",
    "    (10, 4),\n",
    "    (-4, 2),\n",
    "    (-3, 0),\n",
    "] * 1000"
   ]
  },
  {
   "cell_type": "markdown",
   "metadata": {},
   "source": [
    "Python Lösung mit for-Schleife:"
   ]
  },
  {
   "cell_type": "code",
   "execution_count": 25,
   "metadata": {},
   "outputs": [
    {
     "name": "stdout",
     "output_type": "stream",
     "text": [
      "4 (0, 1.1)\n"
     ]
    }
   ],
   "source": [
    "import math\n",
    "\n",
    "def distance(p1, p2):\n",
    "    return math.sqrt((p1[0] - p2[0])**2 + (p1[1] - p2[1])**2)\n",
    "\n",
    "def find_closest(points, point):\n",
    "    min_distance = math.inf\n",
    "    \n",
    "    for i, other in enumerate(points):\n",
    "        d = distance(point, other) \n",
    "        \n",
    "        if d < min_distance:\n",
    "            min_distance = d\n",
    "            min_idx = i\n",
    "    \n",
    "    return min_idx\n",
    "\n",
    "idx = find_closest(points, point)\n",
    "print(idx, points[idx])"
   ]
  },
  {
   "cell_type": "code",
   "execution_count": 26,
   "metadata": {},
   "outputs": [
    {
     "name": "stdout",
     "output_type": "stream",
     "text": [
      "5.37 ms ± 25.5 µs per loop (mean ± std. dev. of 7 runs, 100 loops each)\n"
     ]
    }
   ],
   "source": [
    "%%timeit \n",
    "find_closest(points, point)"
   ]
  },
  {
   "cell_type": "code",
   "execution_count": 27,
   "metadata": {},
   "outputs": [],
   "source": [
    "points = np.array(points)\n",
    "point = np.array(point)"
   ]
  },
  {
   "cell_type": "code",
   "execution_count": 28,
   "metadata": {},
   "outputs": [
    {
     "name": "stdout",
     "output_type": "stream",
     "text": [
      "4 [0.  1.1]\n"
     ]
    }
   ],
   "source": [
    "def find_closest_numpy(points, point):\n",
    "    distances = np.linalg.norm(points - point, axis=1)\n",
    "    idx = np.argmin(distances)\n",
    "    return idx\n",
    "\n",
    "idx = find_closest_numpy(points, point)\n",
    "print(idx, points[idx])"
   ]
  },
  {
   "cell_type": "code",
   "execution_count": 29,
   "metadata": {},
   "outputs": [
    {
     "name": "stdout",
     "output_type": "stream",
     "text": [
      "192 µs ± 770 ns per loop (mean ± std. dev. of 7 runs, 10000 loops each)\n"
     ]
    }
   ],
   "source": [
    "%%timeit \n",
    "find_closest_numpy(points, point)"
   ]
  },
  {
   "cell_type": "markdown",
   "metadata": {},
   "source": [
    "### Pseudozufallszahlen\n",
    "\n",
    "Docs: https://numpy.org/doc/stable/reference/random/index.html"
   ]
  },
  {
   "cell_type": "code",
   "execution_count": null,
   "metadata": {},
   "outputs": [],
   "source": [
    "from numpy.random import default_rng\n",
    "\n",
    "# create a new random generator with a fixed seed\n",
    "# this avoids \"evil\" global state when using `np.random.seed` or `np.random.<function>`\n",
    "rg = default_rng(42)"
   ]
  },
  {
   "cell_type": "markdown",
   "metadata": {},
   "source": [
    "#### Eindimensionale Verteilungen"
   ]
  },
  {
   "cell_type": "code",
   "execution_count": null,
   "metadata": {},
   "outputs": [],
   "source": [
    "uniform = rg.uniform(-5, 5, 1000)\n",
    "gaussian = rg.normal(0, 1, 1000)\n",
    "poisson = rg.poisson(3, 1000)"
   ]
  },
  {
   "cell_type": "markdown",
   "metadata": {},
   "source": [
    "#### Mehrdimensionale Normalverteilung"
   ]
  },
  {
   "cell_type": "code",
   "execution_count": null,
   "metadata": {},
   "outputs": [],
   "source": [
    "mean = [2, 1]\n",
    "cov = [[2, 1],\n",
    "       [1, 4]]\n",
    "gauss_2d = rg.multivariate_normal(mean, cov, 1000)"
   ]
  },
  {
   "cell_type": "markdown",
   "metadata": {},
   "source": [
    "Für reproduzierbarkeit wichtig: der Startwert (seed) des Zufallszahlengenerators.\n",
    "\n",
    "Auch wichtig bei parallemen Rechnen oder Wiederaufnahme von Simulationen. "
   ]
  },
  {
   "cell_type": "code",
   "execution_count": null,
   "metadata": {},
   "outputs": [],
   "source": [
    "rg = default_rng(42)\n",
    "rg.normal()"
   ]
  },
  {
   "cell_type": "markdown",
   "metadata": {},
   "source": [
    "## matplotlib\n",
    "\n",
    "Die zwei wichtigsten Plot-Arten für die Datenanalyse sind Histogramme und Streudiagramme\n",
    "\n",
    "### Histogramme"
   ]
  },
  {
   "cell_type": "code",
   "execution_count": null,
   "metadata": {},
   "outputs": [],
   "source": [
    "import matplotlib.pyplot as plt\n",
    "\n",
    "# for interactive plots in the notebook.\n",
    "# in ipython just use %matplotlib\n",
    "%matplotlib notebook"
   ]
  },
  {
   "cell_type": "code",
   "execution_count": null,
   "metadata": {},
   "outputs": [],
   "source": [
    "# new feature of matplotlib, use this instead of `plt.tight_layout()`\n",
    "plt.figure(constrained_layout=True)\n",
    "plt.hist(gaussian, bins=20, range=[-5, 5])\n",
    "\n",
    "None # just to not mess up the notebook"
   ]
  },
  {
   "cell_type": "markdown",
   "metadata": {},
   "source": [
    "Bei Vergleichen ist es wichtig, das gleiche Binning zu verwenden"
   ]
  },
  {
   "cell_type": "code",
   "execution_count": null,
   "metadata": {},
   "outputs": [],
   "source": [
    "bins = 20\n",
    "limits = [-5, 5]\n",
    "\n",
    "plt.figure(constrained_layout=True)\n",
    "plt.hist(gaussian, bins=bins, range=limits, histtype='step', label='Gaussian', lw=2)\n",
    "plt.hist(uniform, bins=bins, range=limits, histtype='step', label='Uniform', lw=2)\n",
    "plt.legend()\n",
    "\n",
    "\n",
    "None  # just to not mess up the notebook"
   ]
  },
  {
   "cell_type": "markdown",
   "metadata": {},
   "source": [
    "<span style=\"color: crimson; font-weight: bold; font-size: 2rem\">\n",
    "    Bei diskreten Werten unbedingt ganzzahlige, zentrierte bins verwenden\n",
    "</span>"
   ]
  },
  {
   "cell_type": "code",
   "execution_count": null,
   "metadata": {},
   "outputs": [],
   "source": [
    "plt.figure(constrained_layout=True)\n",
    "plt.hist(poisson, bins=15)\n",
    "None  # just to not mess up the notebook"
   ]
  },
  {
   "cell_type": "code",
   "execution_count": null,
   "metadata": {},
   "outputs": [],
   "source": [
    "plt.figure(constrained_layout=True)\n",
    "plt.hist(\n",
    "    poisson,\n",
    "    bins=np.arange(15) - 0.5,  # bins can be either number of bins or bin edges\n",
    "    edgecolor='w',\n",
    "    lw=2\n",
    ")\n",
    "\n",
    "\n",
    "np.arange(15) - 0.5"
   ]
  },
  {
   "cell_type": "code",
   "execution_count": null,
   "metadata": {},
   "outputs": [],
   "source": [
    "# convert bin edges to bin centers and bin width\n",
    "\n",
    "bins = np.arange(8) - 0.5\n",
    "\n",
    "bin_centers = 0.5 * (bins[:-1] + bins[1:])\n",
    "bin_widths = np.diff(bins)\n",
    "\n",
    "print(bins)\n",
    "print(bin_centers)\n",
    "print(bin_widths)"
   ]
  },
  {
   "cell_type": "markdown",
   "metadata": {},
   "source": [
    "### Streudiagramme"
   ]
  },
  {
   "cell_type": "code",
   "execution_count": null,
   "metadata": {},
   "outputs": [],
   "source": [
    "plt.figure(constrained_layout=True)\n",
    "\n",
    "plt.scatter(gauss_2d[:, 0], gauss_2d[:, 1])"
   ]
  },
  {
   "cell_type": "code",
   "execution_count": null,
   "metadata": {},
   "outputs": [],
   "source": [
    "gauss_2d = rg.multivariate_normal(mean, cov, 10000)\n",
    "\n",
    "plt.figure(constrained_layout=True)\n",
    "\n",
    "# smaller dots and transparency for this many points\n",
    "plt.scatter(gauss_2d[:, 0], gauss_2d[:, 1], s=5, alpha=0.2)"
   ]
  },
  {
   "cell_type": "markdown",
   "metadata": {},
   "source": [
    "* Scatter kann ein Drittes Attribut als Farbe darstellen\n",
    "* Mit ListedColorMap bekommt man eine diskrete Colormap mit einer Farbe für jede Klasse"
   ]
  },
  {
   "cell_type": "code",
   "execution_count": null,
   "metadata": {},
   "outputs": [],
   "source": [
    "from sklearn.datasets import load_iris\n",
    "\n",
    "iris = load_iris()"
   ]
  },
  {
   "cell_type": "code",
   "execution_count": null,
   "metadata": {},
   "outputs": [],
   "source": [
    "from matplotlib.colors import ListedColormap\n",
    "\n",
    "n_classes = len(iris.target_names)\n",
    "\n",
    "# new ColorMap with `n_classes` discrete colors \n",
    "# using the standard color rotation C0, C1, ...\n",
    "cmap = ListedColormap([f'C{i}' for i in range(n_classes)])\n",
    "\n",
    "# automatically adjust spacing\n",
    "fig, ax = plt.subplots(constrained_layout=True)\n",
    "\n",
    "# scatter plot with colors per class\n",
    "scat = ax.scatter(\n",
    "    iris.data[:, 0],       # x-values, first column\n",
    "    iris.data[:, 1],       # y-values, second column \n",
    "    c=iris.target,         # data to determine color\n",
    "    cmap=cmap,             # colormap, converts data in c to an actual color\n",
    "    vmin=-0.5,             # minimum value for the color axis\n",
    "    vmax=n_classes - 0.5,  # maximum value for the color axis\n",
    ")\n",
    "\n",
    "\n",
    "# follow SI conventions (divide by unit)\n",
    "ax.set_xlabel(iris.feature_names[0].replace('(cm)', '/ cm'))\n",
    "ax.set_ylabel(iris.feature_names[1].replace('(cm)', '/ cm'))\n",
    "\n",
    "# colorbar with ticklabels\n",
    "bar = fig.colorbar(scat, ticks=[0, 1, 2], ax=ax)\n",
    "bar.set_ticklabels(iris.target_names)"
   ]
  },
  {
   "cell_type": "markdown",
   "metadata": {},
   "source": [
    "### 2d-Histogramme"
   ]
  },
  {
   "cell_type": "code",
   "execution_count": null,
   "metadata": {},
   "outputs": [],
   "source": [
    "plt.figure(constrained_layout=True)\n",
    "plt.hist2d(\n",
    "    gauss_2d[:, 0],\n",
    "    gauss_2d[:, 1],\n",
    "    bins=[21, 21],\n",
    "    range=[[-3, 7], [-7, 9]],\n",
    "    cmap='inferno', # has more contrast than the default viridis\n",
    ")\n",
    "plt.colorbar()\n",
    "None"
   ]
  },
  {
   "cell_type": "markdown",
   "metadata": {},
   "source": [
    "Manchmal hilfreich: Logarithmische Skala auf der Farbachse\n",
    "\n",
    "z.B. um eine zweite, kleine Population zu erkennen"
   ]
  },
  {
   "cell_type": "code",
   "execution_count": null,
   "metadata": {},
   "outputs": [],
   "source": [
    "gauss_2d = rg.multivariate_normal(mean, cov, 100000)\n",
    "gauss_2d_2 = rg.multivariate_normal([-1.5, 4.5], [[0.5, 0], [0, 0.5]], 500)\n",
    "\n",
    "gauss_2d_both = np.concatenate([gauss_2d, gauss_2d_2], axis=0)\n",
    "\n",
    "gauss_2d_both.shape"
   ]
  },
  {
   "cell_type": "code",
   "execution_count": null,
   "metadata": {},
   "outputs": [],
   "source": [
    "plt.figure(constrained_layout=True)\n",
    "plt.hist2d(\n",
    "    gauss_2d_both[:, 0],\n",
    "    gauss_2d_both[:, 1],\n",
    "    bins=[50, 50],\n",
    "    range=[[-3, 7], [-7, 9]],\n",
    "    cmap='inferno'\n",
    ")\n",
    "plt.colorbar()"
   ]
  },
  {
   "cell_type": "code",
   "execution_count": null,
   "metadata": {},
   "outputs": [],
   "source": [
    "from matplotlib.colors import LogNorm\n",
    "\n",
    "plt.figure(constrained_layout=True)\n",
    "plt.hist2d(\n",
    "    gauss_2d_both[:, 0],\n",
    "    gauss_2d_both[:, 1],\n",
    "    bins=[50, 50],\n",
    "    range=[[-3, 7], [-7, 9]],\n",
    "    norm=LogNorm(),\n",
    "    cmap='inferno',\n",
    ")\n",
    "plt.colorbar()"
   ]
  },
  {
   "cell_type": "markdown",
   "metadata": {},
   "source": [
    "Oft wichtig: gleiches Seiteverhältnis der Daten:"
   ]
  },
  {
   "cell_type": "code",
   "execution_count": null,
   "metadata": {},
   "outputs": [],
   "source": [
    "from matplotlib.colors import LogNorm\n",
    "\n",
    "fig, ax = plt.subplots(constrained_layout=True)\n",
    "\n",
    "ax.set_aspect('equal')\n",
    "\n",
    "hist, xbins, ybins, plot = ax.hist2d(\n",
    "    gauss_2d_both[:, 0],\n",
    "    gauss_2d_both[:, 1],\n",
    "    bins=[50, 50],\n",
    "    range=[[-3, 7], [-7, 9]],\n",
    "    norm=LogNorm(),\n",
    "    cmap='inferno',\n",
    ")\n",
    "\n",
    "fig.colorbar(plot, ax=ax)\n",
    "\n",
    "None"
   ]
  },
  {
   "cell_type": "markdown",
   "metadata": {},
   "source": [
    "## scipy\n",
    "\n",
    "Für SMD-A wird vor allem das `scipy.stats` Modul wichtig werden\n",
    "\n",
    "### scipy.stats\n",
    "\n",
    "Viele Statistische Verteilungen mit vielen Eigenschaften\n",
    "\n",
    "Docs: https://docs.scipy.org/doc/scipy/reference/stats.html"
   ]
  },
  {
   "cell_type": "code",
   "execution_count": null,
   "metadata": {},
   "outputs": [],
   "source": [
    "from scipy.stats import norm\n",
    "\n",
    "mean = 5\n",
    "std = 2\n",
    "\n",
    "gaussian = norm(mean, std)"
   ]
  },
  {
   "cell_type": "code",
   "execution_count": null,
   "metadata": {},
   "outputs": [],
   "source": [
    "# draw random samples\n",
    "samples = gaussian.rvs(size=1000)\n",
    "\n",
    "x = np.linspace(mean - 5 * std, mean + 5 * std, 250)\n",
    "\n",
    "plt.figure(constrained_layout=True)\n",
    "\n",
    "# plot histogram\n",
    "plt.hist(\n",
    "    samples,\n",
    "    bins=100,\n",
    "    range=[x.min(), x.max()],\n",
    "    density=True,  # normalize histgram to an area of 1\n",
    "    label='Normiertes Histogramm',\n",
    ")\n",
    "\n",
    "# plot pdf and cdf\n",
    "plt.plot(x, gaussian.pdf(x), label='Wahrscheinlichkeitsdichte', lw=2)\n",
    "plt.plot(x, gaussian.cdf(x), label='Verteilungsfunktion', lw=2)\n",
    "\n",
    "\n",
    "plt.legend()"
   ]
  },
  {
   "cell_type": "code",
   "execution_count": null,
   "metadata": {},
   "outputs": [],
   "source": [
    "x = rg.normal(5, 2, 100)\n",
    "\n",
    "# maximum likelihood fit \n",
    "mean_fit, std_fit = norm.fit(x)\n",
    "\n",
    "mean_fit, std_fit, mean, std"
   ]
  },
  {
   "cell_type": "markdown",
   "metadata": {},
   "source": [
    "## Pandas\n",
    "\n",
    "Bibliothek für Tabellarische Daten"
   ]
  },
  {
   "cell_type": "code",
   "execution_count": null,
   "metadata": {},
   "outputs": [],
   "source": [
    "import pandas as pd"
   ]
  },
  {
   "cell_type": "markdown",
   "metadata": {},
   "source": [
    "### Create a pandas.DataFrame from numpy arrays"
   ]
  },
  {
   "cell_type": "code",
   "execution_count": null,
   "metadata": {},
   "outputs": [],
   "source": [
    "signal = pd.DataFrame({\n",
    "    'x': rg.normal(2, 0.5, 1000),\n",
    "    'y': rg.uniform(1, 0.5, 1000),\n",
    "    'N': rg.poisson(50, 1000),\n",
    "    't': rg.exponential(5, 1000),\n",
    "})"
   ]
  },
  {
   "cell_type": "markdown",
   "metadata": {},
   "source": [
    "### Erster Blick in die Daten"
   ]
  },
  {
   "cell_type": "code",
   "execution_count": null,
   "metadata": {},
   "outputs": [],
   "source": [
    "signal.head()"
   ]
  },
  {
   "cell_type": "markdown",
   "metadata": {},
   "source": [
    "### Input/Output"
   ]
  },
  {
   "cell_type": "code",
   "execution_count": null,
   "metadata": {},
   "outputs": [],
   "source": [
    "signal.to_csv('data.csv')"
   ]
  },
  {
   "cell_type": "code",
   "execution_count": null,
   "metadata": {},
   "outputs": [],
   "source": [
    "signal = pd.read_csv('data.csv', index_col=0)"
   ]
  },
  {
   "cell_type": "code",
   "execution_count": null,
   "metadata": {},
   "outputs": [],
   "source": [
    "# HDF5 is a fast, binary data format better suited for large datasets\n",
    "signal.to_hdf('data.hdf5', key='signal')"
   ]
  },
  {
   "cell_type": "code",
   "execution_count": null,
   "metadata": {},
   "outputs": [],
   "source": [
    "background = pd.DataFrame({\n",
    "    'x': rg.uniform(-4, 4, 10000),\n",
    "    'y': rg.uniform(-4, 4, 10000),\n",
    "    'N': rg.poisson(30, 10000),\n",
    "    't': rg.exponential(10, 10000),\n",
    "})"
   ]
  },
  {
   "cell_type": "code",
   "execution_count": null,
   "metadata": {},
   "outputs": [],
   "source": [
    "# you can store more than one dataset in the same file\n",
    "background.to_hdf('data.hdf5', key='background')"
   ]
  },
  {
   "cell_type": "code",
   "execution_count": null,
   "metadata": {},
   "outputs": [],
   "source": [
    "background.head()"
   ]
  },
  {
   "cell_type": "code",
   "execution_count": null,
   "metadata": {},
   "outputs": [],
   "source": [
    "df = pd.read_hdf('data.hdf5', key='signal')"
   ]
  },
  {
   "cell_type": "code",
   "execution_count": null,
   "metadata": {},
   "outputs": [],
   "source": [
    "len(df)"
   ]
  },
  {
   "cell_type": "markdown",
   "metadata": {},
   "source": [
    "Look at the first / last values"
   ]
  },
  {
   "cell_type": "code",
   "execution_count": null,
   "metadata": {},
   "outputs": [],
   "source": [
    "df.head()"
   ]
  },
  {
   "cell_type": "code",
   "execution_count": null,
   "metadata": {},
   "outputs": [],
   "source": [
    "df.describe()"
   ]
  },
  {
   "cell_type": "markdown",
   "metadata": {},
   "source": [
    "### The titanic dataset"
   ]
  },
  {
   "cell_type": "code",
   "execution_count": null,
   "metadata": {},
   "outputs": [],
   "source": [
    "df = pd.read_csv('titanic.csv')"
   ]
  },
  {
   "cell_type": "code",
   "execution_count": null,
   "metadata": {},
   "outputs": [],
   "source": [
    "df.head()"
   ]
  },
  {
   "cell_type": "markdown",
   "metadata": {},
   "source": [
    "Wie viele Valide Werte gibt es in jeder Spalte?"
   ]
  },
  {
   "cell_type": "code",
   "execution_count": null,
   "metadata": {},
   "outputs": [],
   "source": [
    "df.count()"
   ]
  },
  {
   "cell_type": "markdown",
   "metadata": {},
   "source": [
    "Spalten loswerden, die zu viele missing values haben"
   ]
  },
  {
   "cell_type": "code",
   "execution_count": null,
   "metadata": {},
   "outputs": [],
   "source": [
    "# axis=1 Spalten droppen\n",
    "# inplace=df direkt bearbeiten\n",
    "df.drop(['cabin', 'boat', 'body', 'home.dest'], axis=1, inplace=True) \n",
    "\n",
    "df.head()"
   ]
  },
  {
   "cell_type": "markdown",
   "metadata": {},
   "source": [
    "Wie war die Geschlechter Verteilung auf der Titanic?"
   ]
  },
  {
   "cell_type": "code",
   "execution_count": null,
   "metadata": {},
   "outputs": [],
   "source": [
    "df.sex.value_counts()"
   ]
  },
  {
   "cell_type": "markdown",
   "metadata": {},
   "source": [
    "Mächtige Operation: GroupBy → Aggregate\n",
    "\n",
    "Datensatz in mehrere Gruppen unterteilen und pro Gruppe zusammenfassen.\n",
    "\n",
    "Hier: Aufgeschlüsselt nach Geschlecht, den Prozentsatz der überlebenden."
   ]
  },
  {
   "cell_type": "code",
   "execution_count": null,
   "metadata": {},
   "outputs": [],
   "source": [
    "df.groupby('sex')['survived'].agg('mean')"
   ]
  },
  {
   "cell_type": "markdown",
   "metadata": {},
   "source": [
    "Auch DataFrames unterstützen masken:"
   ]
  },
  {
   "cell_type": "code",
   "execution_count": null,
   "metadata": {},
   "outputs": [],
   "source": [
    "df['child'] = df.age < 9\n",
    "\n",
    "df[df['child']]"
   ]
  },
  {
   "cell_type": "markdown",
   "metadata": {},
   "source": [
    "Alternativ"
   ]
  },
  {
   "cell_type": "code",
   "execution_count": null,
   "metadata": {},
   "outputs": [],
   "source": [
    "df.groupby('child').survived.mean()"
   ]
  },
  {
   "cell_type": "markdown",
   "metadata": {},
   "source": [
    "## Klassen\n",
    "\n",
    "\n",
    "Dieses Jahr wird es eine Semesterübergreifende Aufgabe geben,\n",
    "die an einer Detektor-Simulation und Analyse entlang führt.\n",
    "\n",
    "Teilaufgaben werden als normale Übungsaufgaben gestellt und wir geben \n",
    "einen großteil der Struktur und des Codes vor.\n",
    "\n",
    "Die Aufgaben werden daraus bestehen, den Code an bestimmten stellen zu ergänzen.\n",
    "\n",
    "Als Vorbereitung geben wir hier eine (sehr) kurze Einführung in Python-Klassen.\n",
    "\n",
    "Die volle Dokumentation gibt es hier:  \n",
    "\n",
    "Docs: https://docs.python.org/3/reference/datamodel.html"
   ]
  },
  {
   "cell_type": "code",
   "execution_count": null,
   "metadata": {},
   "outputs": [],
   "source": [
    "class Detector:\n",
    "    \n",
    "    # special method to initialize a new instance of a class\n",
    "    def __init__(self, width, height):\n",
    "        self.width = width\n",
    "        self.height = height"
   ]
  },
  {
   "cell_type": "code",
   "execution_count": null,
   "metadata": {},
   "outputs": [],
   "source": [
    "detector = Detector(width=10, height=5)\n",
    "\n",
    "print(detector.width, detector.height)"
   ]
  },
  {
   "cell_type": "markdown",
   "metadata": {},
   "source": [
    "Eine Aufgabe könnte zum Beispiel daraus bestehen,\n",
    "eine Methode zu schreiben, die überprüft, ob ein Punkt innerhalb des Detektors ist.\n",
    "\n",
    "Das Koordinatensystem sei so definiert, das width die Ausdehnung in x, height die Ausdehnung in y ist, und die untere, linke Ecke des Detektors im Ursprung.\n",
    "\n",
    "Vorgeben könnte dann folgendes sein:"
   ]
  },
  {
   "cell_type": "code",
   "execution_count": null,
   "metadata": {},
   "outputs": [],
   "source": [
    "class Detector:\n",
    "    def __init__(self, width, height):\n",
    "        self.width = width\n",
    "        self.height = height\n",
    "        \n",
    "    def is_inside(self, x, y):\n",
    "        result = False\n",
    "        \n",
    "        ##########\n",
    "        # Hier Code ergänzen, um korrektes Ergebnis zu berechnen\n",
    "        ##########\n",
    "        \n",
    "        return result"
   ]
  },
  {
   "cell_type": "markdown",
   "metadata": {},
   "source": [
    "Wir werden meistens Skripte oder *Tests* zur Verfügung stellen,\n",
    "mit denen ihr eure Ergebnis überprüfen könnt:\n",
    "\n",
    "Docs: https://docs.pytest.org/en/stable/"
   ]
  },
  {
   "cell_type": "code",
   "execution_count": null,
   "metadata": {},
   "outputs": [],
   "source": [
    "def test_is_inside():\n",
    "    # a test function to be used with `pytest`\n",
    "    d = Detector(5, 5)\n",
    "\n",
    "    assert d.is_inside(2, 2), 'This point should be inside'\n",
    "    assert not d.is_inside(10, 10), 'This point should not be inside'\n",
    "    \n",
    "test_is_inside()"
   ]
  },
  {
   "cell_type": "markdown",
   "metadata": {},
   "source": [
    "In Python, werden Operatoren und vieles weitere durch sogenannte \"Magic Methods\"\n",
    "implementiert, die mit zwei Unterstrichen (\"dunder\") beginnen:"
   ]
  },
  {
   "cell_type": "code",
   "execution_count": null,
   "metadata": {},
   "outputs": [],
   "source": [
    "print(Detector(10, 5))"
   ]
  },
  {
   "cell_type": "code",
   "execution_count": null,
   "metadata": {},
   "outputs": [],
   "source": [
    "class Detector:\n",
    "    def __init__(self, width, height):\n",
    "        self.width = width\n",
    "        self.height = height\n",
    "\n",
    "    def __repr__(self):\n",
    "        '''This methods enables conversion to a representation str, e.g. for printing'''\n",
    "        return f'{self.__class__.__name__}(width={self.width}, height={self.height})'"
   ]
  },
  {
   "cell_type": "code",
   "execution_count": null,
   "metadata": {},
   "outputs": [],
   "source": [
    "d = Detector(10, 5)\n",
    "print(d)"
   ]
  }
 ],
 "metadata": {
  "kernelspec": {
   "display_name": "Python 3",
   "language": "python",
   "name": "python3"
  },
  "language_info": {
   "codemirror_mode": {
    "name": "ipython",
    "version": 3
   },
   "file_extension": ".py",
   "mimetype": "text/x-python",
   "name": "python",
   "nbconvert_exporter": "python",
   "pygments_lexer": "ipython3",
   "version": "3.8.5"
  }
 },
 "nbformat": 4,
 "nbformat_minor": 2
}
