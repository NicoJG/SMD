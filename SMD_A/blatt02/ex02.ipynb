{
 "cells": [
  {
   "cell_type": "markdown",
   "id": "7ab7bcb1",
   "metadata": {},
   "source": [
    "# Aufgabe 1: Würfel\n"
   ]
  },
  {
   "cell_type": "markdown",
   "id": "eae2f230",
   "metadata": {},
   "source": [
    "a) $P(W_r +W_b = 9) = P(W_r = 3 \\& W_b=6) + P(W_r = 4 \\& W_b=5) + P(W_r = 6 \\& W_b=3) + P(W_r = 5 \\& W_b=4) = \\frac{4}{36}$"
   ]
  },
  {
   "cell_type": "markdown",
   "id": "3bca97c4",
   "metadata": {},
   "source": [
    "b) $P(W_r + W_b \\geq 9) = P(W_r \\geq 3 \\& W_b =6) + P(W_r \\geq 4 \\& W_b = 5) + ... + P(W_r=6 \\& W_b \\geq 3) + ... = \\frac{10}{36}$"
   ]
  },
  {
   "cell_type": "markdown",
   "id": "9db8f06b",
   "metadata": {},
   "source": [
    "c)$P(W_r = 4 \\& W_b = 5) + P(W_r = 5 \\& W_b = 4) = \\frac{2}{36}$"
   ]
  },
  {
   "cell_type": "markdown",
   "id": "9c59e8cf",
   "metadata": {},
   "source": [
    "d) $P(W_r = 4 \\& W_b = 5) = \\frac{1}{36}$"
   ]
  },
  {
   "cell_type": "markdown",
   "id": "9c87d73e",
   "metadata": {},
   "source": [
    "e) $\\&$ g) $P(W_b = 5 | W_r = 4) =P(W_b = 5) = \\frac{1}{6}$"
   ]
  },
  {
   "cell_type": "markdown",
   "id": "ea00f47c",
   "metadata": {},
   "source": [
    "f) $P(W_r + W_b \\geq 9 | W_r = 4) = P(W_b = 5) + P(W_b = 6) = \\frac{1}{3}$"
   ]
  },
  {
   "cell_type": "markdown",
   "id": "0b53b13d",
   "metadata": {},
   "source": [
    "# Aufgabe 2 :  Maxwellsche Geschwindigkeitsverteilung"
   ]
  },
  {
   "cell_type": "markdown",
   "id": "47b2b987",
   "metadata": {},
   "source": [
    "$f(v) = N \\exp(-\\frac{mv^2}{2k_B T})4 \\pi v^2$\n"
   ]
  },
  {
   "cell_type": "markdown",
   "id": "b2514e63",
   "metadata": {},
   "source": [
    "### Herleitung von N\n",
    "Es gilt 1. $n(v)dv = N f(v) dv$ $\\&$"
   ]
  },
  {
   "cell_type": "markdown",
   "id": "9c42d8e0",
   "metadata": {},
   "source": [
    "2. $\\int_{- \\infty}^{+ \\infty} f(v) dv = 1$"
   ]
  },
  {
   "cell_type": "markdown",
   "id": "e4bcb954",
   "metadata": {},
   "source": [
    "Betrachte zunächst nur die x-Richtung: $n(v_x)dv_x \\propto \\exp(\\frac{-mv^2}{2k_BT}) \\\\ \\Rightarrow n(v_x) dv_x = N \\exp(\\frac{-mv^2}{2k_BT}) dv_x$ mit $\\int_{- \\infty}^{+\\infty} \\exp(-x^2)= \\sqrt{\\pi} $"
   ]
  },
  {
   "cell_type": "markdown",
   "id": "57958116",
   "metadata": {},
   "source": [
    "$\\Rightarrow f(v_x) = \\sqrt{\\frac{m}{2 \\pi k_B T }} \\exp(\\frac{-mv^2}{2k_BT}) \\\\$$\\Rightarrow$ in 3d ist $N = (\\frac{m}{2\\pi k_B T} ))^{\\frac{3}{2}}$"
   ]
  },
  {
   "cell_type": "markdown",
   "id": "675d1c20",
   "metadata": {},
   "source": [
    "a) Die wahrscheinlichste Geschwindigkeit befindet sich am HP von $f(v) \\\\$\n",
    "1.$\\frac{f(v)}{dv} = 4 \\pi N \\frac{d}{dv} (v^2 \\exp(\\frac{-mv^2}{2k_BT})) =...= 4 \\pi N (2 v \\frac{-mv^2}{2k_BT} - \\frac{m v^3 \\frac{-mv^2}{2k_BT}}{k_B T})$\n"
   ]
  },
  {
   "cell_type": "markdown",
   "id": "50d8be8b",
   "metadata": {},
   "source": [
    "2. $0 = 2 v \\frac{-mv^2}{2k_BT} - \\frac{m v^3 \\frac{-mv^2}{2k_BT}}{k_B T} \\\\ \\Rightarrow 0 = 2v - \\frac{mv^3}{k_B T}\\\\ \\Rightarrow 2v= \\frac{mv^3}{k_B T} \\\\ v= 0  \\:\\text{oder} \\: v = \\pm \\sqrt{\\frac{2 k_B T}{m}}\\\\$ \n",
    "Der HP liegt bei $v_m = \\sqrt{\\frac{2 k_B T}{m}}$"
   ]
  },
  {
   "cell_type": "markdown",
   "id": "71e69889",
   "metadata": {},
   "source": [
    "b) $\\langle v \\rangle = \\int_0^\\infty v f(v) dv \\\\ = N v^3 4 \\pi \\exp(\\frac{-mv^2}{2k_BT}) dv \\\\ = \\frac{8 \\pi k_B^2 N T^2}{m^2} \\: \\text{mit} \\: N= (\\frac{m}{2\\pi k_B T} ))^{\\frac{3}{2}} \\\\ = \\sqrt{\\frac{8k_B T}{\\pi m}}= \\frac{2}{\\sqrt{\\pi}}v_m$"
   ]
  },
  {
   "cell_type": "markdown",
   "id": "7ecaf153",
   "metadata": {},
   "source": [
    "c)"
   ]
  },
  {
   "cell_type": "code",
   "execution_count": 20,
   "id": "25be4de2",
   "metadata": {},
   "outputs": [
    {
     "data": {
      "text/plain": [
       "0.08600413062304277"
      ]
     },
     "execution_count": 20,
     "metadata": {},
     "output_type": "execute_result"
    }
   ],
   "source": [
    "import numpy as np\n",
    "def f(x):\n",
    "    z = (1/(2*np.pi))**(3/2) *4 *np.pi * x**2 * np.exp(-x**2)\n",
    "    return z\n",
    "\n",
    "x= np.linspace(0,3,100)\n",
    "\n",
    "np.median(f(x))"
   ]
  },
  {
   "cell_type": "markdown",
   "id": "7f5fdb1b",
   "metadata": {},
   "source": [
    "d)"
   ]
  },
  {
   "cell_type": "code",
   "execution_count": 21,
   "id": "931d3e9e",
   "metadata": {},
   "outputs": [
    {
     "data": {
      "image/png": "[encoded data removed]",
      "text/plain": [
       "<Figure size 432x288 with 1 Axes>"
      ]
     },
     "metadata": {
      "needs_background": "light"
     },
     "output_type": "display_data"
    }
   ],
   "source": [
    "import matplotlib.pyplot as plt \n",
    "plt.plot(x, f(x),\"b-\")\n",
    "plt.tight_layout()"
   ]
  },
  {
   "cell_type": "code",
   "execution_count": 22,
   "id": "53424a2b",
   "metadata": {},
   "outputs": [
    {
     "data": {
      "image/png": "[encoded data removed]",
      "text/plain": [
       "<Figure size 432x288 with 1 Axes>"
      ]
     },
     "metadata": {
      "needs_background": "light"
     },
     "output_type": "display_data"
    }
   ],
   "source": [
    "from scipy.interpolate import UnivariateSpline\n",
    "\n",
    "maxwell = f(x)\n",
    "spline = UnivariateSpline(x, maxwell-np.max(maxwell)/2, s=0)\n",
    "r1, r2 = spline.roots() # find the roots\n",
    "plt.plot(x, f(x),\"b-\")\n",
    "plt.axvspan(r1, r2, facecolor='g', alpha=0.5)\n",
    "plt.show()"
   ]
  },
  {
   "cell_type": "code",
   "execution_count": 23,
   "id": "948e30e9",
   "metadata": {},
   "outputs": [
    {
     "data": {
      "text/plain": [
       "1.1549423593186936"
      ]
     },
     "execution_count": 23,
     "metadata": {},
     "output_type": "execute_result"
    }
   ],
   "source": [
    "np.absolute(r1-r2) #berechne die volle Breite auf halber Höhe der Verteilung"
   ]
  },
  {
   "cell_type": "markdown",
   "id": "4b6feb6a",
   "metadata": {},
   "source": [
    "e) $\\sigma ^2= \\text{Var} = \\int_{-\\infty}^{+\\infty} (v-\\mu)^2 f(v)dv \\: \\text{mit} \\: \\mu = \\sqrt{\\frac{8k_B T}{\\pi m}} \\\\ = \\frac{(6\\pi + 16)k_B T }{\\pi m}$"
   ]
  },
  {
   "cell_type": "code",
   "execution_count": null,
   "id": "cfcdc893",
   "metadata": {},
   "outputs": [],
   "source": []
  }
 ],
 "metadata": {
  "kernelspec": {
   "display_name": "Python 3",
   "language": "python",
   "name": "python3"
  },
  "language_info": {
   "codemirror_mode": {
    "name": "ipython",
    "version": 3
   },
   "file_extension": ".py",
   "mimetype": "text/x-python",
   "name": "python",
   "nbconvert_exporter": "python",
   "pygments_lexer": "ipython3",
   "version": "3.8.5"
  }
 },
 "nbformat": 4,
 "nbformat_minor": 5
}
