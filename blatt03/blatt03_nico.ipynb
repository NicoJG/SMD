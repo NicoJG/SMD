{
 "cells": [
  {
   "cell_type": "markdown",
   "id": "857b48a1",
   "metadata": {},
   "source": [
    "## Aufgabe 5\n",
    "\n",
    "### b)"
   ]
  },
  {
   "cell_type": "code",
   "execution_count": 18,
   "id": "48d8a5bd",
   "metadata": {},
   "outputs": [],
   "source": [
    "import numpy as np\n",
    "from project_b4.random import LCG"
   ]
  },
  {
   "cell_type": "code",
   "execution_count": 19,
   "id": "a15593d8",
   "metadata": {},
   "outputs": [
    {
     "name": "stdout",
     "output_type": "stream",
     "text": [
      "[1013904223 1196435762 3519870697 2868466484 1649599747 2670642822\n",
      " 1476291629 2748932008 2180890343 2498801434]\n"
     ]
    }
   ],
   "source": [
    "lcg_default = LCG()\n",
    "print(lcg_default.random_raw(10))"
   ]
  },
  {
   "cell_type": "code",
   "execution_count": 40,
   "id": "d504e8c6",
   "metadata": {},
   "outputs": [
    {
     "name": "stdout",
     "output_type": "stream",
     "text": [
      "a = 1\n",
      "numbers = [  3   6   9 ... 298 301 304]\n",
      "period length = [1024 1024 1024 1024 1024 1024 1024 1024 1024]\n",
      "\n",
      "a = 2\n",
      "numbers = [   3    9   21 ... 1021 1021 1021]\n",
      "period length = []\n",
      "\n",
      "a = 3\n",
      "numbers = [  3  12  39 ... 820 415 224]\n",
      "period length = [512 512 512 512 512 512 512 512 512 512 512 512 512 512 512 512 512 512\n",
      " 512]\n",
      "\n",
      "a = 4\n",
      "numbers = [   3   15   63 ... 1023 1023 1023]\n",
      "period length = []\n",
      "\n",
      "a = 5\n",
      "numbers = [  3  18  93 ... 110 553 720]\n",
      "period length = [1024 1024 1024 1024 1024 1024 1024 1024 1024]\n",
      "\n",
      "a = 6\n",
      "numbers = [  3  21 129 ... 409 409 409]\n",
      "period length = []\n",
      "\n",
      "a = 7\n",
      "numbers = [  3  24 171 ... 808 539 704]\n",
      "period length = [256 256 256 256 256 256 256 256 256 256 256 256 256 256 256 256 256 256\n",
      " 256 256 256 256 256 256 256 256 256 256 256 256 256 256 256 256 256 256\n",
      " 256 256 256]\n",
      "\n",
      "a = 8\n",
      "numbers = [  3  27 219 ... 731 731 731]\n",
      "period length = []\n",
      "\n",
      "a = 9\n",
      "numbers = [  3  30 273 ... 178 581 112]\n",
      "period length = [1024 1024 1024 1024 1024 1024 1024 1024 1024]\n",
      "\n"
     ]
    }
   ],
   "source": [
    "a = range(1,10)\n",
    "for a in a:\n",
    "    lcg = LCG(seed=0,a=a,c=3,m=1024)\n",
    "    numbers = lcg.random_raw(size=10000)\n",
    "    period_length = np.diff(np.where(numbers == numbers[0])[0])\n",
    "    print(f'a = {a}')\n",
    "    print(f'numbers = {numbers}')\n",
    "    print(f'period length = {period_length}')\n",
    "    print()\n"
   ]
  },
  {
   "cell_type": "code",
   "execution_count": 43,
   "id": "11f19471",
   "metadata": {},
   "outputs": [
    {
     "name": "stdout",
     "output_type": "stream",
     "text": [
      "maximal period length for a in \n",
      " [1, 5, 9, 13, 17, 21, 25, 29, 33, 37, 41, 45, 49, 53, 57, 61, 65, 69, 73, 77, 81, 85, 89, 93, 97, 101, 105, 109, 113, 117, 121, 125, 129, 133, 137, 141, 145, 149, 153, 157, 161, 165, 169, 173, 177, 181, 185, 189, 193, 197, 201, 205, 209, 213, 217, 221, 225, 229, 233, 237, 241, 245, 249, 253, 257, 261, 265, 269, 273, 277, 281, 285, 289, 293, 297, 301, 305, 309, 313, 317, 321, 325, 329, 333, 337, 341, 345, 349, 353, 357, 361, 365, 369, 373, 377, 381, 385, 389, 393, 397, 401, 405, 409, 413, 417, 421, 425, 429, 433, 437, 441, 445, 449, 453, 457, 461, 465, 469, 473, 477, 481, 485, 489, 493, 497, 501, 505, 509, 513, 517, 521, 525, 529, 533, 537, 541, 545, 549, 553, 557, 561, 565, 569, 573, 577, 581, 585, 589, 593, 597, 601, 605, 609, 613, 617, 621, 625, 629, 633, 637, 641, 645, 649, 653, 657, 661, 665, 669, 673, 677, 681, 685, 689, 693, 697, 701, 705, 709, 713, 717, 721, 725, 729, 733, 737, 741, 745, 749, 753, 757, 761, 765, 769, 773, 777, 781, 785, 789, 793, 797, 801, 805, 809, 813, 817, 821, 825, 829, 833, 837, 841, 845, 849, 853, 857, 861, 865, 869, 873, 877, 881, 885, 889, 893, 897, 901, 905, 909, 913, 917, 921, 925, 929, 933, 937, 941, 945, 949, 953, 957, 961, 965, 969, 973, 977, 981, 985, 989, 993, 997]\n"
     ]
    }
   ],
   "source": [
    "a2 = range(1,1000)\n",
    "a_max_period_length = []\n",
    "for a in a2:\n",
    "    lcg = LCG(seed=0,a=a,c=3,m=1024)\n",
    "    numbers = lcg.random_raw(size=10000)\n",
    "    period_length = np.diff(np.where(numbers == numbers[0])[0])\n",
    "    if 1024 in period_length:\n",
    "        a_max_period_length.append(a)\n",
    "\n",
    "print(f'maximal period length for a in \\n {a_max_period_length}')"
   ]
  },
  {
   "cell_type": "markdown",
   "id": "a5c1e6ac",
   "metadata": {},
   "source": [
    "- Bei LCG ist die maximale Periodenlänge immer = m\n",
    "- die maximale Periodenlänge ist erreicht bei z.B.  \n",
    "$a \\in {1,5,9,13,...}$  \n",
    "- $m = 1024$ ist durch 4 teilbar, also ist laut Vorlesung $a$ so zu wählen, dass $(a-1)$ auch durch 4 teilbar ist."
   ]
  },
  {
   "cell_type": "code",
   "execution_count": null,
   "id": "d542a77d",
   "metadata": {},
   "outputs": [],
   "source": []
  }
 ],
 "metadata": {
  "kernelspec": {
   "display_name": "Python 3",
   "language": "python",
   "name": "python3"
  },
  "language_info": {
   "codemirror_mode": {
    "name": "ipython",
    "version": 3
   },
   "file_extension": ".py",
   "mimetype": "text/x-python",
   "name": "python",
   "nbconvert_exporter": "python",
   "pygments_lexer": "ipython3",
   "version": "3.8.8"
  }
 },
 "nbformat": 4,
 "nbformat_minor": 5
}
